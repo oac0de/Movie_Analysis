{
 "cells": [
  {
   "cell_type": "code",
   "execution_count": 3,
   "metadata": {
    "ExecuteTime": {
     "end_time": "2020-06-19T14:09:08.595544Z",
     "start_time": "2020-06-19T14:09:07.980383Z"
    }
   },
   "outputs": [],
   "source": [
    "import pandas as pd\n",
    "import os"
   ]
  },
  {
   "cell_type": "code",
   "execution_count": 4,
   "metadata": {
    "ExecuteTime": {
     "end_time": "2020-06-19T14:09:08.617616Z",
     "start_time": "2020-06-19T14:09:08.608078Z"
    }
   },
   "outputs": [
    {
     "data": {
      "text/plain": [
       "'/Users/orin/Data Science/MODULE 1/Module-1-Project/Movie_Analysis'"
      ]
     },
     "execution_count": 4,
     "metadata": {},
     "output_type": "execute_result"
    }
   ],
   "source": [
    "pwd"
   ]
  },
  {
   "cell_type": "code",
   "execution_count": 5,
   "metadata": {
    "ExecuteTime": {
     "end_time": "2020-06-19T14:09:09.048920Z",
     "start_time": "2020-06-19T14:09:09.046591Z"
    }
   },
   "outputs": [],
   "source": [
    "from glob import glob"
   ]
  },
  {
   "cell_type": "code",
   "execution_count": 6,
   "metadata": {
    "ExecuteTime": {
     "end_time": "2020-06-19T14:09:09.223861Z",
     "start_time": "2020-06-19T14:09:09.218502Z"
    }
   },
   "outputs": [
    {
     "data": {
      "text/plain": [
       "['./zippedData/imdb.title.crew.csv.gz',\n",
       " './zippedData/tmdb.movies.csv.gz',\n",
       " './zippedData/imdb.title.akas.csv.gz',\n",
       " './zippedData/imdb.title.ratings.csv.gz',\n",
       " './zippedData/imdb.name.basics.csv.gz',\n",
       " './zippedData/imdb.title.basics.csv.gz',\n",
       " './zippedData/tn.movie_budgets.csv.gz',\n",
       " './zippedData/bom.movie_gross.csv.gz',\n",
       " './zippedData/imdb.title.principals.csv.gz']"
      ]
     },
     "execution_count": 6,
     "metadata": {},
     "output_type": "execute_result"
    }
   ],
   "source": [
    "csv_files = glob(\"./zippedData/*.csv.gz\")\n",
    "csv_files"
   ]
  },
  {
   "cell_type": "code",
   "execution_count": 7,
   "metadata": {
    "ExecuteTime": {
     "end_time": "2020-06-19T14:09:09.425096Z",
     "start_time": "2020-06-19T14:09:09.422056Z"
    }
   },
   "outputs": [],
   "source": [
    "type(csv_files)\n",
    "d = {}"
   ]
  },
  {
   "cell_type": "code",
   "execution_count": 8,
   "metadata": {
    "ExecuteTime": {
     "end_time": "2020-06-19T14:09:13.246312Z",
     "start_time": "2020-06-19T14:09:09.650838Z"
    }
   },
   "outputs": [],
   "source": [
    "for file in csv_files:\n",
    "    d[file] = pd.read_csv(file)"
   ]
  },
  {
   "cell_type": "code",
   "execution_count": 9,
   "metadata": {
    "ExecuteTime": {
     "end_time": "2020-06-19T14:09:13.352907Z",
     "start_time": "2020-06-19T14:09:13.349283Z"
    }
   },
   "outputs": [
    {
     "data": {
      "text/plain": [
       "dict_keys(['./zippedData/imdb.title.crew.csv.gz', './zippedData/tmdb.movies.csv.gz', './zippedData/imdb.title.akas.csv.gz', './zippedData/imdb.title.ratings.csv.gz', './zippedData/imdb.name.basics.csv.gz', './zippedData/imdb.title.basics.csv.gz', './zippedData/tn.movie_budgets.csv.gz', './zippedData/bom.movie_gross.csv.gz', './zippedData/imdb.title.principals.csv.gz'])"
      ]
     },
     "execution_count": 9,
     "metadata": {},
     "output_type": "execute_result"
    }
   ],
   "source": [
    "d.keys()"
   ]
  },
  {
   "cell_type": "code",
   "execution_count": 10,
   "metadata": {
    "ExecuteTime": {
     "end_time": "2020-06-19T14:09:17.014857Z",
     "start_time": "2020-06-19T14:09:13.436897Z"
    }
   },
   "outputs": [],
   "source": [
    "csv_files_dict = {}\n",
    "for filename in csv_files:\n",
    "    filename_cleaned = os.path.basename(filename).replace(\".csv\", \"\").replace(\".\", \"_\").replace('_gz','') # cleaning the filenames\n",
    "    filename_df = pd.read_csv(filename, index_col=0)\n",
    "    csv_files_dict[filename_cleaned] = filename_df"
   ]
  },
  {
   "cell_type": "code",
   "execution_count": 11,
   "metadata": {
    "ExecuteTime": {
     "end_time": "2020-06-19T14:09:17.177284Z",
     "start_time": "2020-06-19T14:09:17.172877Z"
    }
   },
   "outputs": [
    {
     "data": {
      "text/plain": [
       "dict_keys(['imdb_title_crew', 'tmdb_movies', 'imdb_title_akas', 'imdb_title_ratings', 'imdb_name_basics', 'imdb_title_basics', 'tn_movie_budgets', 'bom_movie_gross', 'imdb_title_principals'])"
      ]
     },
     "execution_count": 11,
     "metadata": {},
     "output_type": "execute_result"
    }
   ],
   "source": [
    "csv_files_dict.keys()"
   ]
  },
  {
   "cell_type": "code",
   "execution_count": 12,
   "metadata": {
    "ExecuteTime": {
     "end_time": "2020-06-19T14:09:17.335920Z",
     "start_time": "2020-06-19T14:09:17.327203Z"
    },
    "scrolled": true
   },
   "outputs": [
    {
     "data": {
      "text/html": [
       "<div>\n",
       "<style scoped>\n",
       "    .dataframe tbody tr th:only-of-type {\n",
       "        vertical-align: middle;\n",
       "    }\n",
       "\n",
       "    .dataframe tbody tr th {\n",
       "        vertical-align: top;\n",
       "    }\n",
       "\n",
       "    .dataframe thead th {\n",
       "        text-align: right;\n",
       "    }\n",
       "</style>\n",
       "<table border=\"1\" class=\"dataframe\">\n",
       "  <thead>\n",
       "    <tr style=\"text-align: right;\">\n",
       "      <th></th>\n",
       "      <th>directors</th>\n",
       "      <th>writers</th>\n",
       "    </tr>\n",
       "    <tr>\n",
       "      <th>tconst</th>\n",
       "      <th></th>\n",
       "      <th></th>\n",
       "    </tr>\n",
       "  </thead>\n",
       "  <tbody>\n",
       "    <tr>\n",
       "      <td>tt0285252</td>\n",
       "      <td>nm0899854</td>\n",
       "      <td>nm0899854</td>\n",
       "    </tr>\n",
       "    <tr>\n",
       "      <td>tt0438973</td>\n",
       "      <td>NaN</td>\n",
       "      <td>nm0175726,nm1802864</td>\n",
       "    </tr>\n",
       "    <tr>\n",
       "      <td>tt0462036</td>\n",
       "      <td>nm1940585</td>\n",
       "      <td>nm1940585</td>\n",
       "    </tr>\n",
       "    <tr>\n",
       "      <td>tt0835418</td>\n",
       "      <td>nm0151540</td>\n",
       "      <td>nm0310087,nm0841532</td>\n",
       "    </tr>\n",
       "    <tr>\n",
       "      <td>tt0878654</td>\n",
       "      <td>nm0089502,nm2291498,nm2292011</td>\n",
       "      <td>nm0284943</td>\n",
       "    </tr>\n",
       "    <tr>\n",
       "      <td>...</td>\n",
       "      <td>...</td>\n",
       "      <td>...</td>\n",
       "    </tr>\n",
       "    <tr>\n",
       "      <td>tt8999974</td>\n",
       "      <td>nm10122357</td>\n",
       "      <td>nm10122357</td>\n",
       "    </tr>\n",
       "    <tr>\n",
       "      <td>tt9001390</td>\n",
       "      <td>nm6711477</td>\n",
       "      <td>nm6711477</td>\n",
       "    </tr>\n",
       "    <tr>\n",
       "      <td>tt9001494</td>\n",
       "      <td>nm10123242,nm10123248</td>\n",
       "      <td>NaN</td>\n",
       "    </tr>\n",
       "    <tr>\n",
       "      <td>tt9004986</td>\n",
       "      <td>nm4993825</td>\n",
       "      <td>nm4993825</td>\n",
       "    </tr>\n",
       "    <tr>\n",
       "      <td>tt9010172</td>\n",
       "      <td>NaN</td>\n",
       "      <td>nm8352242</td>\n",
       "    </tr>\n",
       "  </tbody>\n",
       "</table>\n",
       "<p>146144 rows × 2 columns</p>\n",
       "</div>"
      ],
      "text/plain": [
       "                               directors              writers\n",
       "tconst                                                       \n",
       "tt0285252                      nm0899854            nm0899854\n",
       "tt0438973                            NaN  nm0175726,nm1802864\n",
       "tt0462036                      nm1940585            nm1940585\n",
       "tt0835418                      nm0151540  nm0310087,nm0841532\n",
       "tt0878654  nm0089502,nm2291498,nm2292011            nm0284943\n",
       "...                                  ...                  ...\n",
       "tt8999974                     nm10122357           nm10122357\n",
       "tt9001390                      nm6711477            nm6711477\n",
       "tt9001494          nm10123242,nm10123248                  NaN\n",
       "tt9004986                      nm4993825            nm4993825\n",
       "tt9010172                            NaN            nm8352242\n",
       "\n",
       "[146144 rows x 2 columns]"
      ]
     },
     "execution_count": 12,
     "metadata": {},
     "output_type": "execute_result"
    }
   ],
   "source": [
    "csv_files_dict['imdb_title_crew']"
   ]
  },
  {
   "cell_type": "code",
   "execution_count": 13,
   "metadata": {
    "ExecuteTime": {
     "end_time": "2020-06-19T14:09:17.488645Z",
     "start_time": "2020-06-19T14:09:17.486524Z"
    }
   },
   "outputs": [],
   "source": [
    "import sqlite3"
   ]
  },
  {
   "cell_type": "code",
   "execution_count": 14,
   "metadata": {
    "ExecuteTime": {
     "end_time": "2020-06-19T14:09:17.629190Z",
     "start_time": "2020-06-19T14:09:17.626405Z"
    }
   },
   "outputs": [],
   "source": [
    "conn = sqlite3.connect(\"movies_db.sqlite\") \n",
    "cur = conn.cursor()"
   ]
  },
  {
   "cell_type": "code",
   "execution_count": 15,
   "metadata": {
    "ExecuteTime": {
     "end_time": "2020-06-19T14:09:17.770296Z",
     "start_time": "2020-06-19T14:09:17.766902Z"
    }
   },
   "outputs": [],
   "source": [
    "def create_sql_table_from_df(df, name, conn):\n",
    "    try:\n",
    "        df.to_sql(name, conn)\n",
    "        print(f\"Created table {name}\")\n",
    "    \n",
    "    except Exception as e:\n",
    "        print(f\"could not make table {name}\")\n",
    "        print(e)"
   ]
  },
  {
   "cell_type": "code",
   "execution_count": 16,
   "metadata": {
    "ExecuteTime": {
     "end_time": "2020-06-19T14:09:18.904633Z",
     "start_time": "2020-06-19T14:09:17.913512Z"
    }
   },
   "outputs": [
    {
     "name": "stdout",
     "output_type": "stream",
     "text": [
      "could not make table imdb_title_crew\n",
      "Table 'imdb_title_crew' already exists.\n",
      "could not make table tmdb_movies\n",
      "Table 'tmdb_movies' already exists.\n",
      "could not make table imdb_title_akas\n",
      "Table 'imdb_title_akas' already exists.\n",
      "could not make table imdb_title_ratings\n",
      "Table 'imdb_title_ratings' already exists.\n",
      "could not make table imdb_name_basics\n",
      "Table 'imdb_name_basics' already exists.\n",
      "could not make table imdb_title_basics\n",
      "Table 'imdb_title_basics' already exists.\n",
      "could not make table tn_movie_budgets\n",
      "Table 'tn_movie_budgets' already exists.\n",
      "could not make table bom_movie_gross\n",
      "Table 'bom_movie_gross' already exists.\n",
      "could not make table imdb_title_principals\n",
      "Table 'imdb_title_principals' already exists.\n"
     ]
    }
   ],
   "source": [
    "for name, table in csv_files_dict.items():\n",
    "    create_sql_table_from_df(table, name, conn)"
   ]
  },
  {
   "cell_type": "code",
   "execution_count": 17,
   "metadata": {
    "ExecuteTime": {
     "end_time": "2020-06-19T14:09:19.065968Z",
     "start_time": "2020-06-19T14:09:19.062691Z"
    },
    "scrolled": false
   },
   "outputs": [
    {
     "data": {
      "text/plain": [
       "[('imdb_title_crew',),\n",
       " ('tmdb_movies',),\n",
       " ('imdb_title_akas',),\n",
       " ('imdb_title_ratings',),\n",
       " ('imdb_name_basics',),\n",
       " ('imdb_title_basics',),\n",
       " ('tn_movie_budgets',),\n",
       " ('bom_movie_gross',),\n",
       " ('imdb_title_principals',),\n",
       " ('films_by_awards.csv',),\n",
       " ('films_by_awards',),\n",
       " ('films_by_awards1',),\n",
       " ('films_by_awards2',),\n",
       " ('tn_movie_budgets2',),\n",
       " ('tn_movie_budgets_clean',)]"
      ]
     },
     "execution_count": 17,
     "metadata": {},
     "output_type": "execute_result"
    }
   ],
   "source": [
    "cur.execute(\"select name from sqlite_master where type='table';\").fetchall()"
   ]
  },
  {
   "cell_type": "markdown",
   "metadata": {},
   "source": [
    "Cleaning tn_movie_budgets to have just year for release date"
   ]
  },
  {
   "cell_type": "code",
   "execution_count": 18,
   "metadata": {
    "ExecuteTime": {
     "end_time": "2020-06-19T14:09:19.220430Z",
     "start_time": "2020-06-19T14:09:19.217897Z"
    }
   },
   "outputs": [],
   "source": [
    "tn_movie_budgets_df = csv_files_dict['tn_movie_budgets']"
   ]
  },
  {
   "cell_type": "code",
   "execution_count": 19,
   "metadata": {
    "ExecuteTime": {
     "end_time": "2020-06-19T14:09:19.384513Z",
     "start_time": "2020-06-19T14:09:19.380972Z"
    }
   },
   "outputs": [
    {
     "data": {
      "text/plain": [
       "(5782, 5)"
      ]
     },
     "execution_count": 19,
     "metadata": {},
     "output_type": "execute_result"
    }
   ],
   "source": [
    "tn_movie_budgets_df.shape"
   ]
  },
  {
   "cell_type": "code",
   "execution_count": 20,
   "metadata": {
    "ExecuteTime": {
     "end_time": "2020-06-19T14:09:19.558136Z",
     "start_time": "2020-06-19T14:09:19.550837Z"
    },
    "scrolled": true
   },
   "outputs": [
    {
     "name": "stdout",
     "output_type": "stream",
     "text": [
      "<class 'pandas.core.frame.DataFrame'>\n",
      "Int64Index: 5782 entries, 1 to 82\n",
      "Data columns (total 5 columns):\n",
      "release_date         5782 non-null object\n",
      "movie                5782 non-null object\n",
      "production_budget    5782 non-null object\n",
      "domestic_gross       5782 non-null object\n",
      "worldwide_gross      5782 non-null object\n",
      "dtypes: object(5)\n",
      "memory usage: 271.0+ KB\n"
     ]
    }
   ],
   "source": [
    "tn_movie_budgets_df.info()"
   ]
  },
  {
   "cell_type": "code",
   "execution_count": 21,
   "metadata": {
    "ExecuteTime": {
     "end_time": "2020-06-19T14:09:19.741004Z",
     "start_time": "2020-06-19T14:09:19.735488Z"
    },
    "scrolled": true
   },
   "outputs": [
    {
     "data": {
      "text/plain": [
       "release_date         0\n",
       "movie                0\n",
       "production_budget    0\n",
       "domestic_gross       0\n",
       "worldwide_gross      0\n",
       "dtype: int64"
      ]
     },
     "execution_count": 21,
     "metadata": {},
     "output_type": "execute_result"
    }
   ],
   "source": [
    "tn_movie_budgets_df.isna().sum()"
   ]
  },
  {
   "cell_type": "code",
   "execution_count": 22,
   "metadata": {
    "ExecuteTime": {
     "end_time": "2020-06-19T14:09:20.393743Z",
     "start_time": "2020-06-19T14:09:19.902637Z"
    }
   },
   "outputs": [],
   "source": [
    "tn_movie_budgets_df['year'] =  pd.DatetimeIndex(tn_movie_budgets_df['release_date']).year"
   ]
  },
  {
   "cell_type": "code",
   "execution_count": 23,
   "metadata": {
    "ExecuteTime": {
     "end_time": "2020-06-19T14:09:20.570563Z",
     "start_time": "2020-06-19T14:09:20.559726Z"
    },
    "scrolled": true
   },
   "outputs": [
    {
     "data": {
      "text/html": [
       "<div>\n",
       "<style scoped>\n",
       "    .dataframe tbody tr th:only-of-type {\n",
       "        vertical-align: middle;\n",
       "    }\n",
       "\n",
       "    .dataframe tbody tr th {\n",
       "        vertical-align: top;\n",
       "    }\n",
       "\n",
       "    .dataframe thead th {\n",
       "        text-align: right;\n",
       "    }\n",
       "</style>\n",
       "<table border=\"1\" class=\"dataframe\">\n",
       "  <thead>\n",
       "    <tr style=\"text-align: right;\">\n",
       "      <th></th>\n",
       "      <th>release_date</th>\n",
       "      <th>movie</th>\n",
       "      <th>production_budget</th>\n",
       "      <th>domestic_gross</th>\n",
       "      <th>worldwide_gross</th>\n",
       "      <th>year</th>\n",
       "    </tr>\n",
       "    <tr>\n",
       "      <th>id</th>\n",
       "      <th></th>\n",
       "      <th></th>\n",
       "      <th></th>\n",
       "      <th></th>\n",
       "      <th></th>\n",
       "      <th></th>\n",
       "    </tr>\n",
       "  </thead>\n",
       "  <tbody>\n",
       "    <tr>\n",
       "      <td>1</td>\n",
       "      <td>Dec 18, 2009</td>\n",
       "      <td>Avatar</td>\n",
       "      <td>$425,000,000</td>\n",
       "      <td>$760,507,625</td>\n",
       "      <td>$2,776,345,279</td>\n",
       "      <td>2009</td>\n",
       "    </tr>\n",
       "    <tr>\n",
       "      <td>2</td>\n",
       "      <td>May 20, 2011</td>\n",
       "      <td>Pirates of the Caribbean: On Stranger Tides</td>\n",
       "      <td>$410,600,000</td>\n",
       "      <td>$241,063,875</td>\n",
       "      <td>$1,045,663,875</td>\n",
       "      <td>2011</td>\n",
       "    </tr>\n",
       "    <tr>\n",
       "      <td>3</td>\n",
       "      <td>Jun 7, 2019</td>\n",
       "      <td>Dark Phoenix</td>\n",
       "      <td>$350,000,000</td>\n",
       "      <td>$42,762,350</td>\n",
       "      <td>$149,762,350</td>\n",
       "      <td>2019</td>\n",
       "    </tr>\n",
       "    <tr>\n",
       "      <td>4</td>\n",
       "      <td>May 1, 2015</td>\n",
       "      <td>Avengers: Age of Ultron</td>\n",
       "      <td>$330,600,000</td>\n",
       "      <td>$459,005,868</td>\n",
       "      <td>$1,403,013,963</td>\n",
       "      <td>2015</td>\n",
       "    </tr>\n",
       "    <tr>\n",
       "      <td>5</td>\n",
       "      <td>Dec 15, 2017</td>\n",
       "      <td>Star Wars Ep. VIII: The Last Jedi</td>\n",
       "      <td>$317,000,000</td>\n",
       "      <td>$620,181,382</td>\n",
       "      <td>$1,316,721,747</td>\n",
       "      <td>2017</td>\n",
       "    </tr>\n",
       "    <tr>\n",
       "      <td>...</td>\n",
       "      <td>...</td>\n",
       "      <td>...</td>\n",
       "      <td>...</td>\n",
       "      <td>...</td>\n",
       "      <td>...</td>\n",
       "      <td>...</td>\n",
       "    </tr>\n",
       "    <tr>\n",
       "      <td>78</td>\n",
       "      <td>Dec 31, 2018</td>\n",
       "      <td>Red 11</td>\n",
       "      <td>$7,000</td>\n",
       "      <td>$0</td>\n",
       "      <td>$0</td>\n",
       "      <td>2018</td>\n",
       "    </tr>\n",
       "    <tr>\n",
       "      <td>79</td>\n",
       "      <td>Apr 2, 1999</td>\n",
       "      <td>Following</td>\n",
       "      <td>$6,000</td>\n",
       "      <td>$48,482</td>\n",
       "      <td>$240,495</td>\n",
       "      <td>1999</td>\n",
       "    </tr>\n",
       "    <tr>\n",
       "      <td>80</td>\n",
       "      <td>Jul 13, 2005</td>\n",
       "      <td>Return to the Land of Wonders</td>\n",
       "      <td>$5,000</td>\n",
       "      <td>$1,338</td>\n",
       "      <td>$1,338</td>\n",
       "      <td>2005</td>\n",
       "    </tr>\n",
       "    <tr>\n",
       "      <td>81</td>\n",
       "      <td>Sep 29, 2015</td>\n",
       "      <td>A Plague So Pleasant</td>\n",
       "      <td>$1,400</td>\n",
       "      <td>$0</td>\n",
       "      <td>$0</td>\n",
       "      <td>2015</td>\n",
       "    </tr>\n",
       "    <tr>\n",
       "      <td>82</td>\n",
       "      <td>Aug 5, 2005</td>\n",
       "      <td>My Date With Drew</td>\n",
       "      <td>$1,100</td>\n",
       "      <td>$181,041</td>\n",
       "      <td>$181,041</td>\n",
       "      <td>2005</td>\n",
       "    </tr>\n",
       "  </tbody>\n",
       "</table>\n",
       "<p>5782 rows × 6 columns</p>\n",
       "</div>"
      ],
      "text/plain": [
       "    release_date                                        movie  \\\n",
       "id                                                              \n",
       "1   Dec 18, 2009                                       Avatar   \n",
       "2   May 20, 2011  Pirates of the Caribbean: On Stranger Tides   \n",
       "3    Jun 7, 2019                                 Dark Phoenix   \n",
       "4    May 1, 2015                      Avengers: Age of Ultron   \n",
       "5   Dec 15, 2017            Star Wars Ep. VIII: The Last Jedi   \n",
       "..           ...                                          ...   \n",
       "78  Dec 31, 2018                                       Red 11   \n",
       "79   Apr 2, 1999                                    Following   \n",
       "80  Jul 13, 2005                Return to the Land of Wonders   \n",
       "81  Sep 29, 2015                         A Plague So Pleasant   \n",
       "82   Aug 5, 2005                            My Date With Drew   \n",
       "\n",
       "   production_budget domestic_gross worldwide_gross  year  \n",
       "id                                                         \n",
       "1       $425,000,000   $760,507,625  $2,776,345,279  2009  \n",
       "2       $410,600,000   $241,063,875  $1,045,663,875  2011  \n",
       "3       $350,000,000    $42,762,350    $149,762,350  2019  \n",
       "4       $330,600,000   $459,005,868  $1,403,013,963  2015  \n",
       "5       $317,000,000   $620,181,382  $1,316,721,747  2017  \n",
       "..               ...            ...             ...   ...  \n",
       "78            $7,000             $0              $0  2018  \n",
       "79            $6,000        $48,482        $240,495  1999  \n",
       "80            $5,000         $1,338          $1,338  2005  \n",
       "81            $1,400             $0              $0  2015  \n",
       "82            $1,100       $181,041        $181,041  2005  \n",
       "\n",
       "[5782 rows x 6 columns]"
      ]
     },
     "execution_count": 23,
     "metadata": {},
     "output_type": "execute_result"
    }
   ],
   "source": [
    "tn_movie_budgets_df \n"
   ]
  },
  {
   "cell_type": "code",
   "execution_count": 24,
   "metadata": {
    "ExecuteTime": {
     "end_time": "2020-06-19T14:09:20.739795Z",
     "start_time": "2020-06-19T14:09:20.737203Z"
    },
    "scrolled": true
   },
   "outputs": [],
   "source": [
    "def convert_amt_to_int(df, col):\n",
    "    df[col] = df[col].str.replace(\"$\", \"\").str.replace(\",\", \"\").astype('int')\n",
    "    return df"
   ]
  },
  {
   "cell_type": "code",
   "execution_count": 25,
   "metadata": {
    "ExecuteTime": {
     "end_time": "2020-06-19T14:09:20.919644Z",
     "start_time": "2020-06-19T14:09:20.897954Z"
    }
   },
   "outputs": [],
   "source": [
    "money_cols = ['production_budget', 'domestic_gross', 'worldwide_gross']\n",
    "\n",
    "for col in money_cols:\n",
    "    tn_movie_budgets_df = convert_amt_to_int(tn_movie_budgets_df, col)"
   ]
  },
  {
   "cell_type": "code",
   "execution_count": 26,
   "metadata": {
    "ExecuteTime": {
     "end_time": "2020-06-19T14:09:21.086819Z",
     "start_time": "2020-06-19T14:09:21.080752Z"
    }
   },
   "outputs": [
    {
     "name": "stdout",
     "output_type": "stream",
     "text": [
      "<class 'pandas.core.frame.DataFrame'>\n",
      "Int64Index: 5782 entries, 1 to 82\n",
      "Data columns (total 6 columns):\n",
      "release_date         5782 non-null object\n",
      "movie                5782 non-null object\n",
      "production_budget    5782 non-null int64\n",
      "domestic_gross       5782 non-null int64\n",
      "worldwide_gross      5782 non-null int64\n",
      "year                 5782 non-null int64\n",
      "dtypes: int64(4), object(2)\n",
      "memory usage: 316.2+ KB\n"
     ]
    }
   ],
   "source": [
    "tn_movie_budgets_df.info()"
   ]
  },
  {
   "cell_type": "markdown",
   "metadata": {},
   "source": [
    "Checking values to make sure they are clean"
   ]
  },
  {
   "cell_type": "code",
   "execution_count": 27,
   "metadata": {
    "ExecuteTime": {
     "end_time": "2020-06-19T14:09:22.440084Z",
     "start_time": "2020-06-19T14:09:22.413324Z"
    },
    "scrolled": true
   },
   "outputs": [
    {
     "name": "stdout",
     "output_type": "stream",
     "text": [
      "Viewing values in col: release_date\n",
      "Top 5 values:\n",
      "Dec 31, 2014    0.004151\n",
      "Dec 31, 2015    0.003978\n",
      "Dec 31, 2010    0.002594\n",
      "Dec 31, 2008    0.002421\n",
      "Dec 31, 2013    0.002248\n",
      "Name: release_date, dtype: float64\n",
      "-------------------\n",
      "Viewing values in col: movie\n",
      "Top 5 values:\n",
      "Home              0.000519\n",
      "King Kong         0.000519\n",
      "Halloween         0.000519\n",
      "The Karate Kid    0.000346\n",
      "Crash             0.000346\n",
      "Name: movie, dtype: float64\n",
      "-------------------\n",
      "Viewing values in col: production_budget\n",
      "Top 5 values:\n",
      "20000000    0.039952\n",
      "10000000    0.036666\n",
      "30000000    0.030612\n",
      "15000000    0.029920\n",
      "25000000    0.029575\n",
      "Name: production_budget, dtype: float64\n",
      "-------------------\n",
      "Viewing values in col: domestic_gross\n",
      "Top 5 values:\n",
      "0           0.094777\n",
      "8000000     0.001557\n",
      "2000000     0.001211\n",
      "7000000     0.001211\n",
      "10000000    0.001038\n",
      "Name: domestic_gross, dtype: float64\n",
      "-------------------\n",
      "Viewing values in col: worldwide_gross\n",
      "Top 5 values:\n",
      "0          0.063473\n",
      "8000000    0.001557\n",
      "7000000    0.001038\n",
      "2000000    0.001038\n",
      "4000000    0.000692\n",
      "Name: worldwide_gross, dtype: float64\n",
      "-------------------\n",
      "Viewing values in col: year\n",
      "Top 5 values:\n",
      "2015    0.058457\n",
      "2010    0.047388\n",
      "2008    0.045659\n",
      "2006    0.044967\n",
      "2014    0.044102\n",
      "Name: year, dtype: float64\n",
      "-------------------\n"
     ]
    }
   ],
   "source": [
    "for col in tn_movie_budgets_df:\n",
    "    print(f'Viewing values in col: {col}')\n",
    "    print(f'Top 5 values:\\n{tn_movie_budgets_df[col].value_counts(normalize = True)[:5]}')\n",
    "    print(\"-------------------\")"
   ]
  },
  {
   "cell_type": "code",
   "execution_count": 28,
   "metadata": {
    "ExecuteTime": {
     "end_time": "2020-06-19T14:09:23.171537Z",
     "start_time": "2020-06-19T14:09:23.159681Z"
    },
    "scrolled": true
   },
   "outputs": [
    {
     "data": {
      "text/html": [
       "<div>\n",
       "<style scoped>\n",
       "    .dataframe tbody tr th:only-of-type {\n",
       "        vertical-align: middle;\n",
       "    }\n",
       "\n",
       "    .dataframe tbody tr th {\n",
       "        vertical-align: top;\n",
       "    }\n",
       "\n",
       "    .dataframe thead th {\n",
       "        text-align: right;\n",
       "    }\n",
       "</style>\n",
       "<table border=\"1\" class=\"dataframe\">\n",
       "  <thead>\n",
       "    <tr style=\"text-align: right;\">\n",
       "      <th></th>\n",
       "      <th>release_date</th>\n",
       "      <th>movie</th>\n",
       "      <th>production_budget</th>\n",
       "      <th>domestic_gross</th>\n",
       "      <th>worldwide_gross</th>\n",
       "      <th>year</th>\n",
       "      <th>budget_gross_profit</th>\n",
       "    </tr>\n",
       "    <tr>\n",
       "      <th>id</th>\n",
       "      <th></th>\n",
       "      <th></th>\n",
       "      <th></th>\n",
       "      <th></th>\n",
       "      <th></th>\n",
       "      <th></th>\n",
       "      <th></th>\n",
       "    </tr>\n",
       "  </thead>\n",
       "  <tbody>\n",
       "    <tr>\n",
       "      <td>1</td>\n",
       "      <td>Dec 18, 2009</td>\n",
       "      <td>Avatar</td>\n",
       "      <td>425000000</td>\n",
       "      <td>760507625</td>\n",
       "      <td>2776345279</td>\n",
       "      <td>2009</td>\n",
       "      <td>2351345279</td>\n",
       "    </tr>\n",
       "    <tr>\n",
       "      <td>2</td>\n",
       "      <td>May 20, 2011</td>\n",
       "      <td>Pirates of the Caribbean: On Stranger Tides</td>\n",
       "      <td>410600000</td>\n",
       "      <td>241063875</td>\n",
       "      <td>1045663875</td>\n",
       "      <td>2011</td>\n",
       "      <td>635063875</td>\n",
       "    </tr>\n",
       "    <tr>\n",
       "      <td>3</td>\n",
       "      <td>Jun 7, 2019</td>\n",
       "      <td>Dark Phoenix</td>\n",
       "      <td>350000000</td>\n",
       "      <td>42762350</td>\n",
       "      <td>149762350</td>\n",
       "      <td>2019</td>\n",
       "      <td>-200237650</td>\n",
       "    </tr>\n",
       "    <tr>\n",
       "      <td>4</td>\n",
       "      <td>May 1, 2015</td>\n",
       "      <td>Avengers: Age of Ultron</td>\n",
       "      <td>330600000</td>\n",
       "      <td>459005868</td>\n",
       "      <td>1403013963</td>\n",
       "      <td>2015</td>\n",
       "      <td>1072413963</td>\n",
       "    </tr>\n",
       "    <tr>\n",
       "      <td>5</td>\n",
       "      <td>Dec 15, 2017</td>\n",
       "      <td>Star Wars Ep. VIII: The Last Jedi</td>\n",
       "      <td>317000000</td>\n",
       "      <td>620181382</td>\n",
       "      <td>1316721747</td>\n",
       "      <td>2017</td>\n",
       "      <td>999721747</td>\n",
       "    </tr>\n",
       "  </tbody>\n",
       "</table>\n",
       "</div>"
      ],
      "text/plain": [
       "    release_date                                        movie  \\\n",
       "id                                                              \n",
       "1   Dec 18, 2009                                       Avatar   \n",
       "2   May 20, 2011  Pirates of the Caribbean: On Stranger Tides   \n",
       "3    Jun 7, 2019                                 Dark Phoenix   \n",
       "4    May 1, 2015                      Avengers: Age of Ultron   \n",
       "5   Dec 15, 2017            Star Wars Ep. VIII: The Last Jedi   \n",
       "\n",
       "    production_budget  domestic_gross  worldwide_gross  year  \\\n",
       "id                                                             \n",
       "1           425000000       760507625       2776345279  2009   \n",
       "2           410600000       241063875       1045663875  2011   \n",
       "3           350000000        42762350        149762350  2019   \n",
       "4           330600000       459005868       1403013963  2015   \n",
       "5           317000000       620181382       1316721747  2017   \n",
       "\n",
       "    budget_gross_profit  \n",
       "id                       \n",
       "1            2351345279  \n",
       "2             635063875  \n",
       "3            -200237650  \n",
       "4            1072413963  \n",
       "5             999721747  "
      ]
     },
     "execution_count": 28,
     "metadata": {},
     "output_type": "execute_result"
    }
   ],
   "source": [
    "tn_movie_budgets_df['budget_gross_profit'] = tn_movie_budgets_df['worldwide_gross'] - tn_movie_budgets_df['production_budget']\n",
    "tn_movie_budgets_df.head()"
   ]
  },
  {
   "cell_type": "code",
   "execution_count": 29,
   "metadata": {
    "ExecuteTime": {
     "end_time": "2020-06-19T14:09:23.491670Z",
     "start_time": "2020-06-19T14:09:23.481969Z"
    }
   },
   "outputs": [
    {
     "name": "stdout",
     "output_type": "stream",
     "text": [
      "could not make table tn_movie_budgets_clean\n",
      "Table 'tn_movie_budgets_clean' already exists.\n"
     ]
    }
   ],
   "source": [
    "create_sql_table_from_df(tn_movie_budgets_df, 'tn_movie_budgets_clean', conn)"
   ]
  },
  {
   "cell_type": "markdown",
   "metadata": {},
   "source": [
    "Importing dataframe of our scraped Academy-Award winning films, cleaning the column names"
   ]
  },
  {
   "cell_type": "code",
   "execution_count": 30,
   "metadata": {
    "ExecuteTime": {
     "end_time": "2020-06-19T14:09:24.898096Z",
     "start_time": "2020-06-19T14:09:24.881310Z"
    }
   },
   "outputs": [
    {
     "name": "stdout",
     "output_type": "stream",
     "text": [
      "could not make table films_by_awards2\n",
      "Table 'films_by_awards2' already exists.\n"
     ]
    },
    {
     "name": "stderr",
     "output_type": "stream",
     "text": [
      "/Users/orin/opt/anaconda3/envs/learn-env/lib/python3.6/site-packages/pandas/core/generic.py:2712: UserWarning: The spaces in these column names will not be changed. In pandas versions < 0.14, spaces were converted to underscores.\n",
      "  method=method,\n"
     ]
    }
   ],
   "source": [
    "df2 = pd.read_csv('films_by_awards.csv')\n",
    "df2.rename(columns = {\"Film\\n\": \"film\", \"Awards\\n\": \"awards\", \"Nominations\\n\": \"nominations\", \"Year\\n\": \"year\"}, inplace=True)\n",
    "df2\n",
    "create_sql_table_from_df(df2, 'films_by_awards2', conn)"
   ]
  },
  {
   "cell_type": "markdown",
   "metadata": {},
   "source": [
    "Joining academy awards winner data to table of gross and profit data"
   ]
  },
  {
   "cell_type": "code",
   "execution_count": 444,
   "metadata": {
    "ExecuteTime": {
     "end_time": "2020-06-20T01:07:48.530052Z",
     "start_time": "2020-06-20T01:07:48.471232Z"
    },
    "scrolled": true
   },
   "outputs": [
    {
     "data": {
      "text/html": [
       "<div>\n",
       "<style scoped>\n",
       "    .dataframe tbody tr th:only-of-type {\n",
       "        vertical-align: middle;\n",
       "    }\n",
       "\n",
       "    .dataframe tbody tr th {\n",
       "        vertical-align: top;\n",
       "    }\n",
       "\n",
       "    .dataframe thead th {\n",
       "        text-align: right;\n",
       "    }\n",
       "</style>\n",
       "<table border=\"1\" class=\"dataframe\">\n",
       "  <thead>\n",
       "    <tr style=\"text-align: right;\">\n",
       "      <th></th>\n",
       "      <th>id</th>\n",
       "      <th>release_date</th>\n",
       "      <th>movie</th>\n",
       "      <th>production_budget</th>\n",
       "      <th>domestic_gross</th>\n",
       "      <th>worldwide_gross</th>\n",
       "      <th>year</th>\n",
       "      <th>budget_gross_profit</th>\n",
       "      <th>awards</th>\n",
       "      <th>nominations</th>\n",
       "    </tr>\n",
       "  </thead>\n",
       "  <tbody>\n",
       "    <tr>\n",
       "      <td>0</td>\n",
       "      <td>1</td>\n",
       "      <td>Dec 18, 2009</td>\n",
       "      <td>Avatar</td>\n",
       "      <td>425000000</td>\n",
       "      <td>760507625</td>\n",
       "      <td>2776345279</td>\n",
       "      <td>2009</td>\n",
       "      <td>2351345279</td>\n",
       "      <td>3</td>\n",
       "      <td>9</td>\n",
       "    </tr>\n",
       "    <tr>\n",
       "      <td>1</td>\n",
       "      <td>43</td>\n",
       "      <td>Dec 19, 1997</td>\n",
       "      <td>Titanic</td>\n",
       "      <td>200000000</td>\n",
       "      <td>659363944</td>\n",
       "      <td>2208208395</td>\n",
       "      <td>1997</td>\n",
       "      <td>2008208395</td>\n",
       "      <td>11</td>\n",
       "      <td>14</td>\n",
       "    </tr>\n",
       "    <tr>\n",
       "      <td>2</td>\n",
       "      <td>7</td>\n",
       "      <td>Apr 27, 2018</td>\n",
       "      <td>Avengers: Infinity War</td>\n",
       "      <td>300000000</td>\n",
       "      <td>678815482</td>\n",
       "      <td>2048134200</td>\n",
       "      <td>2018</td>\n",
       "      <td>1748134200</td>\n",
       "      <td>None</td>\n",
       "      <td>None</td>\n",
       "    </tr>\n",
       "    <tr>\n",
       "      <td>3</td>\n",
       "      <td>6</td>\n",
       "      <td>Dec 18, 2015</td>\n",
       "      <td>Star Wars Ep. VII: The Force Awakens</td>\n",
       "      <td>306000000</td>\n",
       "      <td>936662225</td>\n",
       "      <td>2053311220</td>\n",
       "      <td>2015</td>\n",
       "      <td>1747311220</td>\n",
       "      <td>None</td>\n",
       "      <td>None</td>\n",
       "    </tr>\n",
       "    <tr>\n",
       "      <td>4</td>\n",
       "      <td>34</td>\n",
       "      <td>Jun 12, 2015</td>\n",
       "      <td>Jurassic World</td>\n",
       "      <td>215000000</td>\n",
       "      <td>652270625</td>\n",
       "      <td>1648854864</td>\n",
       "      <td>2015</td>\n",
       "      <td>1433854864</td>\n",
       "      <td>None</td>\n",
       "      <td>None</td>\n",
       "    </tr>\n",
       "    <tr>\n",
       "      <td>5</td>\n",
       "      <td>67</td>\n",
       "      <td>Apr 3, 2015</td>\n",
       "      <td>Furious 7</td>\n",
       "      <td>190000000</td>\n",
       "      <td>353007020</td>\n",
       "      <td>1518722794</td>\n",
       "      <td>2015</td>\n",
       "      <td>1328722794</td>\n",
       "      <td>None</td>\n",
       "      <td>None</td>\n",
       "    </tr>\n",
       "    <tr>\n",
       "      <td>6</td>\n",
       "      <td>27</td>\n",
       "      <td>May 4, 2012</td>\n",
       "      <td>The Avengers</td>\n",
       "      <td>225000000</td>\n",
       "      <td>623279547</td>\n",
       "      <td>1517935897</td>\n",
       "      <td>2012</td>\n",
       "      <td>1292935897</td>\n",
       "      <td>None</td>\n",
       "      <td>None</td>\n",
       "    </tr>\n",
       "    <tr>\n",
       "      <td>7</td>\n",
       "      <td>61</td>\n",
       "      <td>Jul 15, 2011</td>\n",
       "      <td>Harry Potter and the Deathly Hallows: Part II</td>\n",
       "      <td>125000000</td>\n",
       "      <td>381193157</td>\n",
       "      <td>1341693157</td>\n",
       "      <td>2011</td>\n",
       "      <td>1216693157</td>\n",
       "      <td>None</td>\n",
       "      <td>None</td>\n",
       "    </tr>\n",
       "    <tr>\n",
       "      <td>8</td>\n",
       "      <td>42</td>\n",
       "      <td>Feb 16, 2018</td>\n",
       "      <td>Black Panther</td>\n",
       "      <td>200000000</td>\n",
       "      <td>700059566</td>\n",
       "      <td>1348258224</td>\n",
       "      <td>2018</td>\n",
       "      <td>1148258224</td>\n",
       "      <td>3</td>\n",
       "      <td>7</td>\n",
       "    </tr>\n",
       "    <tr>\n",
       "      <td>9</td>\n",
       "      <td>13</td>\n",
       "      <td>Jun 22, 2018</td>\n",
       "      <td>Jurassic World: Fallen Kingdom</td>\n",
       "      <td>170000000</td>\n",
       "      <td>417719760</td>\n",
       "      <td>1305772799</td>\n",
       "      <td>2018</td>\n",
       "      <td>1135772799</td>\n",
       "      <td>None</td>\n",
       "      <td>None</td>\n",
       "    </tr>\n",
       "    <tr>\n",
       "      <td>10</td>\n",
       "      <td>56</td>\n",
       "      <td>Nov 22, 2013</td>\n",
       "      <td>Frozen</td>\n",
       "      <td>150000000</td>\n",
       "      <td>400738009</td>\n",
       "      <td>1272469910</td>\n",
       "      <td>2013</td>\n",
       "      <td>1122469910</td>\n",
       "      <td>2</td>\n",
       "      <td>2</td>\n",
       "    </tr>\n",
       "    <tr>\n",
       "      <td>11</td>\n",
       "      <td>35</td>\n",
       "      <td>Mar 17, 2017</td>\n",
       "      <td>Beauty and the Beast</td>\n",
       "      <td>160000000</td>\n",
       "      <td>504014165</td>\n",
       "      <td>1259199706</td>\n",
       "      <td>2017</td>\n",
       "      <td>1099199706</td>\n",
       "      <td>None</td>\n",
       "      <td>None</td>\n",
       "    </tr>\n",
       "    <tr>\n",
       "      <td>12</td>\n",
       "      <td>73</td>\n",
       "      <td>Jul 10, 2015</td>\n",
       "      <td>Minions</td>\n",
       "      <td>74000000</td>\n",
       "      <td>336045770</td>\n",
       "      <td>1160336173</td>\n",
       "      <td>2015</td>\n",
       "      <td>1086336173</td>\n",
       "      <td>None</td>\n",
       "      <td>None</td>\n",
       "    </tr>\n",
       "    <tr>\n",
       "      <td>13</td>\n",
       "      <td>4</td>\n",
       "      <td>May 1, 2015</td>\n",
       "      <td>Avengers: Age of Ultron</td>\n",
       "      <td>330600000</td>\n",
       "      <td>459005868</td>\n",
       "      <td>1403013963</td>\n",
       "      <td>2015</td>\n",
       "      <td>1072413963</td>\n",
       "      <td>None</td>\n",
       "      <td>None</td>\n",
       "    </tr>\n",
       "    <tr>\n",
       "      <td>14</td>\n",
       "      <td>26</td>\n",
       "      <td>Dec 17, 2003</td>\n",
       "      <td>The Lord of the Rings: The Return of the King</td>\n",
       "      <td>94000000</td>\n",
       "      <td>377845905</td>\n",
       "      <td>1141403341</td>\n",
       "      <td>2003</td>\n",
       "      <td>1047403341</td>\n",
       "      <td>11</td>\n",
       "      <td>11</td>\n",
       "    </tr>\n",
       "    <tr>\n",
       "      <td>15</td>\n",
       "      <td>44</td>\n",
       "      <td>Jun 15, 2018</td>\n",
       "      <td>Incredibles 2</td>\n",
       "      <td>200000000</td>\n",
       "      <td>608581744</td>\n",
       "      <td>1242520711</td>\n",
       "      <td>2018</td>\n",
       "      <td>1042520711</td>\n",
       "      <td>None</td>\n",
       "      <td>None</td>\n",
       "    </tr>\n",
       "    <tr>\n",
       "      <td>16</td>\n",
       "      <td>48</td>\n",
       "      <td>May 3, 2013</td>\n",
       "      <td>Iron Man 3</td>\n",
       "      <td>200000000</td>\n",
       "      <td>408992272</td>\n",
       "      <td>1215392272</td>\n",
       "      <td>2013</td>\n",
       "      <td>1015392272</td>\n",
       "      <td>None</td>\n",
       "      <td>None</td>\n",
       "    </tr>\n",
       "    <tr>\n",
       "      <td>17</td>\n",
       "      <td>5</td>\n",
       "      <td>Dec 15, 2017</td>\n",
       "      <td>Star Wars Ep. VIII: The Last Jedi</td>\n",
       "      <td>317000000</td>\n",
       "      <td>620181382</td>\n",
       "      <td>1316721747</td>\n",
       "      <td>2017</td>\n",
       "      <td>999721747</td>\n",
       "      <td>None</td>\n",
       "      <td>None</td>\n",
       "    </tr>\n",
       "    <tr>\n",
       "      <td>18</td>\n",
       "      <td>36</td>\n",
       "      <td>Dec 21, 2018</td>\n",
       "      <td>Aquaman</td>\n",
       "      <td>160000000</td>\n",
       "      <td>335061807</td>\n",
       "      <td>1146894640</td>\n",
       "      <td>2018</td>\n",
       "      <td>986894640</td>\n",
       "      <td>None</td>\n",
       "      <td>None</td>\n",
       "    </tr>\n",
       "    <tr>\n",
       "      <td>19</td>\n",
       "      <td>23</td>\n",
       "      <td>Apr 14, 2017</td>\n",
       "      <td>The Fate of the Furious</td>\n",
       "      <td>250000000</td>\n",
       "      <td>225764765</td>\n",
       "      <td>1234846267</td>\n",
       "      <td>2017</td>\n",
       "      <td>984846267</td>\n",
       "      <td>None</td>\n",
       "      <td>None</td>\n",
       "    </tr>\n",
       "    <tr>\n",
       "      <td>20</td>\n",
       "      <td>25</td>\n",
       "      <td>Jun 11, 1993</td>\n",
       "      <td>Jurassic Park</td>\n",
       "      <td>63000000</td>\n",
       "      <td>395708305</td>\n",
       "      <td>1038812584</td>\n",
       "      <td>1993</td>\n",
       "      <td>975812584</td>\n",
       "      <td>3</td>\n",
       "      <td>3</td>\n",
       "    </tr>\n",
       "    <tr>\n",
       "      <td>21</td>\n",
       "      <td>30</td>\n",
       "      <td>Jun 30, 2017</td>\n",
       "      <td>Despicable Me 3</td>\n",
       "      <td>75000000</td>\n",
       "      <td>264624300</td>\n",
       "      <td>1034727750</td>\n",
       "      <td>2017</td>\n",
       "      <td>959727750</td>\n",
       "      <td>None</td>\n",
       "      <td>None</td>\n",
       "    </tr>\n",
       "    <tr>\n",
       "      <td>22</td>\n",
       "      <td>96</td>\n",
       "      <td>Mar 8, 2019</td>\n",
       "      <td>Captain Marvel</td>\n",
       "      <td>175000000</td>\n",
       "      <td>426525952</td>\n",
       "      <td>1123061550</td>\n",
       "      <td>2019</td>\n",
       "      <td>948061550</td>\n",
       "      <td>None</td>\n",
       "      <td>None</td>\n",
       "    </tr>\n",
       "    <tr>\n",
       "      <td>23</td>\n",
       "      <td>64</td>\n",
       "      <td>Jun 29, 2011</td>\n",
       "      <td>Transformers: Dark of the Moon</td>\n",
       "      <td>195000000</td>\n",
       "      <td>352390543</td>\n",
       "      <td>1123790543</td>\n",
       "      <td>2011</td>\n",
       "      <td>928790543</td>\n",
       "      <td>None</td>\n",
       "      <td>None</td>\n",
       "    </tr>\n",
       "    <tr>\n",
       "      <td>24</td>\n",
       "      <td>4</td>\n",
       "      <td>May 19, 1999</td>\n",
       "      <td>Star Wars Ep. I: The Phantom Menace</td>\n",
       "      <td>115000000</td>\n",
       "      <td>474544677</td>\n",
       "      <td>1027044677</td>\n",
       "      <td>1999</td>\n",
       "      <td>912044677</td>\n",
       "      <td>None</td>\n",
       "      <td>None</td>\n",
       "    </tr>\n",
       "    <tr>\n",
       "      <td>25</td>\n",
       "      <td>52</td>\n",
       "      <td>Nov 8, 2012</td>\n",
       "      <td>Skyfall</td>\n",
       "      <td>200000000</td>\n",
       "      <td>304360277</td>\n",
       "      <td>1110526981</td>\n",
       "      <td>2012</td>\n",
       "      <td>910526981</td>\n",
       "      <td>2</td>\n",
       "      <td>5</td>\n",
       "    </tr>\n",
       "    <tr>\n",
       "      <td>26</td>\n",
       "      <td>9</td>\n",
       "      <td>Jun 15, 1994</td>\n",
       "      <td>The Lion King</td>\n",
       "      <td>79300000</td>\n",
       "      <td>421785283</td>\n",
       "      <td>986214868</td>\n",
       "      <td>1994</td>\n",
       "      <td>906914868</td>\n",
       "      <td>2</td>\n",
       "      <td>4</td>\n",
       "    </tr>\n",
       "    <tr>\n",
       "      <td>27</td>\n",
       "      <td>22</td>\n",
       "      <td>Jul 3, 2013</td>\n",
       "      <td>Despicable Me 2</td>\n",
       "      <td>76000000</td>\n",
       "      <td>368065385</td>\n",
       "      <td>975216835</td>\n",
       "      <td>2013</td>\n",
       "      <td>899216835</td>\n",
       "      <td>None</td>\n",
       "      <td>None</td>\n",
       "    </tr>\n",
       "    <tr>\n",
       "      <td>28</td>\n",
       "      <td>37</td>\n",
       "      <td>Jun 27, 2014</td>\n",
       "      <td>Transformers: Age of Extinction</td>\n",
       "      <td>210000000</td>\n",
       "      <td>245439076</td>\n",
       "      <td>1104039076</td>\n",
       "      <td>2014</td>\n",
       "      <td>894039076</td>\n",
       "      <td>None</td>\n",
       "      <td>None</td>\n",
       "    </tr>\n",
       "    <tr>\n",
       "      <td>29</td>\n",
       "      <td>17</td>\n",
       "      <td>May 6, 2016</td>\n",
       "      <td>Captain America: Civil War</td>\n",
       "      <td>250000000</td>\n",
       "      <td>408084349</td>\n",
       "      <td>1140069413</td>\n",
       "      <td>2016</td>\n",
       "      <td>890069413</td>\n",
       "      <td>None</td>\n",
       "      <td>None</td>\n",
       "    </tr>\n",
       "    <tr>\n",
       "      <td>30</td>\n",
       "      <td>38</td>\n",
       "      <td>Dec 20, 2017</td>\n",
       "      <td>Jumanji: Welcome to the Jungle</td>\n",
       "      <td>90000000</td>\n",
       "      <td>404508916</td>\n",
       "      <td>964496193</td>\n",
       "      <td>2017</td>\n",
       "      <td>874496193</td>\n",
       "      <td>None</td>\n",
       "      <td>None</td>\n",
       "    </tr>\n",
       "    <tr>\n",
       "      <td>31</td>\n",
       "      <td>57</td>\n",
       "      <td>Mar 4, 2016</td>\n",
       "      <td>Zootopia</td>\n",
       "      <td>150000000</td>\n",
       "      <td>341268248</td>\n",
       "      <td>1019429616</td>\n",
       "      <td>2016</td>\n",
       "      <td>869429616</td>\n",
       "      <td>1</td>\n",
       "      <td>1</td>\n",
       "    </tr>\n",
       "    <tr>\n",
       "      <td>32</td>\n",
       "      <td>47</td>\n",
       "      <td>Jun 18, 2010</td>\n",
       "      <td>Toy Story 3</td>\n",
       "      <td>200000000</td>\n",
       "      <td>415004880</td>\n",
       "      <td>1068879522</td>\n",
       "      <td>2010</td>\n",
       "      <td>868879522</td>\n",
       "      <td>2</td>\n",
       "      <td>5</td>\n",
       "    </tr>\n",
       "    <tr>\n",
       "      <td>33</td>\n",
       "      <td>93</td>\n",
       "      <td>May 19, 2004</td>\n",
       "      <td>Shrek 2</td>\n",
       "      <td>70000000</td>\n",
       "      <td>441226247</td>\n",
       "      <td>937008132</td>\n",
       "      <td>2004</td>\n",
       "      <td>867008132</td>\n",
       "      <td>None</td>\n",
       "      <td>None</td>\n",
       "    </tr>\n",
       "    <tr>\n",
       "      <td>34</td>\n",
       "      <td>63</td>\n",
       "      <td>Nov 16, 2001</td>\n",
       "      <td>Harry Potter and the Sorcererâs Stone</td>\n",
       "      <td>125000000</td>\n",
       "      <td>317871467</td>\n",
       "      <td>975047606</td>\n",
       "      <td>2001</td>\n",
       "      <td>850047606</td>\n",
       "      <td>None</td>\n",
       "      <td>None</td>\n",
       "    </tr>\n",
       "    <tr>\n",
       "      <td>35</td>\n",
       "      <td>45</td>\n",
       "      <td>Dec 16, 2016</td>\n",
       "      <td>Rogue One: A Star Wars Story</td>\n",
       "      <td>200000000</td>\n",
       "      <td>532177324</td>\n",
       "      <td>1049102856</td>\n",
       "      <td>2016</td>\n",
       "      <td>849102856</td>\n",
       "      <td>None</td>\n",
       "      <td>None</td>\n",
       "    </tr>\n",
       "    <tr>\n",
       "      <td>36</td>\n",
       "      <td>25</td>\n",
       "      <td>May 30, 2003</td>\n",
       "      <td>Finding Nemo</td>\n",
       "      <td>94000000</td>\n",
       "      <td>380529370</td>\n",
       "      <td>936429370</td>\n",
       "      <td>2003</td>\n",
       "      <td>842429370</td>\n",
       "      <td>1</td>\n",
       "      <td>4</td>\n",
       "    </tr>\n",
       "    <tr>\n",
       "      <td>37</td>\n",
       "      <td>28</td>\n",
       "      <td>Jul 7, 2006</td>\n",
       "      <td>Pirates of the Caribbean: Dead Manâs Chest</td>\n",
       "      <td>225000000</td>\n",
       "      <td>423315812</td>\n",
       "      <td>1066215812</td>\n",
       "      <td>2006</td>\n",
       "      <td>841215812</td>\n",
       "      <td>None</td>\n",
       "      <td>None</td>\n",
       "    </tr>\n",
       "    <tr>\n",
       "      <td>38</td>\n",
       "      <td>27</td>\n",
       "      <td>Dec 18, 2002</td>\n",
       "      <td>The Lord of the Rings: The Two Towers</td>\n",
       "      <td>94000000</td>\n",
       "      <td>342548984</td>\n",
       "      <td>934699645</td>\n",
       "      <td>2002</td>\n",
       "      <td>840699645</td>\n",
       "      <td>2</td>\n",
       "      <td>6</td>\n",
       "    </tr>\n",
       "    <tr>\n",
       "      <td>39</td>\n",
       "      <td>84</td>\n",
       "      <td>Nov 2, 2018</td>\n",
       "      <td>Bohemian Rhapsody</td>\n",
       "      <td>55000000</td>\n",
       "      <td>216303339</td>\n",
       "      <td>894985342</td>\n",
       "      <td>2018</td>\n",
       "      <td>839985342</td>\n",
       "      <td>4</td>\n",
       "      <td>5</td>\n",
       "    </tr>\n",
       "    <tr>\n",
       "      <td>40</td>\n",
       "      <td>64</td>\n",
       "      <td>Nov 19, 2010</td>\n",
       "      <td>Harry Potter and the Deathly Hallows: Part I</td>\n",
       "      <td>125000000</td>\n",
       "      <td>296131568</td>\n",
       "      <td>960431568</td>\n",
       "      <td>2010</td>\n",
       "      <td>835431568</td>\n",
       "      <td>None</td>\n",
       "      <td>None</td>\n",
       "    </tr>\n",
       "    <tr>\n",
       "      <td>41</td>\n",
       "      <td>51</td>\n",
       "      <td>Mar 5, 2010</td>\n",
       "      <td>Alice in Wonderland</td>\n",
       "      <td>200000000</td>\n",
       "      <td>334191110</td>\n",
       "      <td>1025491110</td>\n",
       "      <td>2010</td>\n",
       "      <td>825491110</td>\n",
       "      <td>2</td>\n",
       "      <td>3</td>\n",
       "    </tr>\n",
       "    <tr>\n",
       "      <td>42</td>\n",
       "      <td>46</td>\n",
       "      <td>Jun 17, 2016</td>\n",
       "      <td>Finding Dory</td>\n",
       "      <td>200000000</td>\n",
       "      <td>486295561</td>\n",
       "      <td>1021215193</td>\n",
       "      <td>2016</td>\n",
       "      <td>821215193</td>\n",
       "      <td>None</td>\n",
       "      <td>None</td>\n",
       "    </tr>\n",
       "    <tr>\n",
       "      <td>43</td>\n",
       "      <td>75</td>\n",
       "      <td>Jul 18, 2008</td>\n",
       "      <td>The Dark Knight</td>\n",
       "      <td>185000000</td>\n",
       "      <td>533720947</td>\n",
       "      <td>1001996207</td>\n",
       "      <td>2008</td>\n",
       "      <td>816996207</td>\n",
       "      <td>2</td>\n",
       "      <td>8</td>\n",
       "    </tr>\n",
       "    <tr>\n",
       "      <td>44</td>\n",
       "      <td>26</td>\n",
       "      <td>Jul 8, 2016</td>\n",
       "      <td>The Secret Life of Pets</td>\n",
       "      <td>75000000</td>\n",
       "      <td>368384330</td>\n",
       "      <td>886750534</td>\n",
       "      <td>2016</td>\n",
       "      <td>811750534</td>\n",
       "      <td>None</td>\n",
       "      <td>None</td>\n",
       "    </tr>\n",
       "    <tr>\n",
       "      <td>45</td>\n",
       "      <td>11</td>\n",
       "      <td>Jul 20, 2012</td>\n",
       "      <td>The Dark Knight Rises</td>\n",
       "      <td>275000000</td>\n",
       "      <td>448139099</td>\n",
       "      <td>1084439099</td>\n",
       "      <td>2012</td>\n",
       "      <td>809439099</td>\n",
       "      <td>None</td>\n",
       "      <td>None</td>\n",
       "    </tr>\n",
       "    <tr>\n",
       "      <td>46</td>\n",
       "      <td>58</td>\n",
       "      <td>Jul 11, 2007</td>\n",
       "      <td>Harry Potter and the Order of the Phoenix</td>\n",
       "      <td>150000000</td>\n",
       "      <td>292137260</td>\n",
       "      <td>943076457</td>\n",
       "      <td>2007</td>\n",
       "      <td>793076457</td>\n",
       "      <td>None</td>\n",
       "      <td>None</td>\n",
       "    </tr>\n",
       "    <tr>\n",
       "      <td>47</td>\n",
       "      <td>97</td>\n",
       "      <td>Apr 15, 2016</td>\n",
       "      <td>The Jungle Book</td>\n",
       "      <td>175000000</td>\n",
       "      <td>364001123</td>\n",
       "      <td>962854547</td>\n",
       "      <td>2016</td>\n",
       "      <td>787854547</td>\n",
       "      <td>1</td>\n",
       "      <td>1</td>\n",
       "    </tr>\n",
       "    <tr>\n",
       "      <td>48</td>\n",
       "      <td>14</td>\n",
       "      <td>Jul 13, 2012</td>\n",
       "      <td>Ice Age: Continental Drift</td>\n",
       "      <td>95000000</td>\n",
       "      <td>161321843</td>\n",
       "      <td>879765137</td>\n",
       "      <td>2012</td>\n",
       "      <td>784765137</td>\n",
       "      <td>None</td>\n",
       "      <td>None</td>\n",
       "    </tr>\n",
       "    <tr>\n",
       "      <td>49</td>\n",
       "      <td>26</td>\n",
       "      <td>Jun 11, 1982</td>\n",
       "      <td>ET: The Extra-Terrestrial</td>\n",
       "      <td>10500000</td>\n",
       "      <td>435110554</td>\n",
       "      <td>792965326</td>\n",
       "      <td>1982</td>\n",
       "      <td>782465326</td>\n",
       "      <td>None</td>\n",
       "      <td>None</td>\n",
       "    </tr>\n",
       "  </tbody>\n",
       "</table>\n",
       "</div>"
      ],
      "text/plain": [
       "    id  release_date                                          movie  \\\n",
       "0    1  Dec 18, 2009                                         Avatar   \n",
       "1   43  Dec 19, 1997                                        Titanic   \n",
       "2    7  Apr 27, 2018                         Avengers: Infinity War   \n",
       "3    6  Dec 18, 2015           Star Wars Ep. VII: The Force Awakens   \n",
       "4   34  Jun 12, 2015                                 Jurassic World   \n",
       "5   67   Apr 3, 2015                                      Furious 7   \n",
       "6   27   May 4, 2012                                   The Avengers   \n",
       "7   61  Jul 15, 2011  Harry Potter and the Deathly Hallows: Part II   \n",
       "8   42  Feb 16, 2018                                  Black Panther   \n",
       "9   13  Jun 22, 2018                 Jurassic World: Fallen Kingdom   \n",
       "10  56  Nov 22, 2013                                         Frozen   \n",
       "11  35  Mar 17, 2017                           Beauty and the Beast   \n",
       "12  73  Jul 10, 2015                                        Minions   \n",
       "13   4   May 1, 2015                        Avengers: Age of Ultron   \n",
       "14  26  Dec 17, 2003  The Lord of the Rings: The Return of the King   \n",
       "15  44  Jun 15, 2018                                  Incredibles 2   \n",
       "16  48   May 3, 2013                                     Iron Man 3   \n",
       "17   5  Dec 15, 2017              Star Wars Ep. VIII: The Last Jedi   \n",
       "18  36  Dec 21, 2018                                        Aquaman   \n",
       "19  23  Apr 14, 2017                        The Fate of the Furious   \n",
       "20  25  Jun 11, 1993                                  Jurassic Park   \n",
       "21  30  Jun 30, 2017                                Despicable Me 3   \n",
       "22  96   Mar 8, 2019                                 Captain Marvel   \n",
       "23  64  Jun 29, 2011                 Transformers: Dark of the Moon   \n",
       "24   4  May 19, 1999            Star Wars Ep. I: The Phantom Menace   \n",
       "25  52   Nov 8, 2012                                        Skyfall   \n",
       "26   9  Jun 15, 1994                                  The Lion King   \n",
       "27  22   Jul 3, 2013                                Despicable Me 2   \n",
       "28  37  Jun 27, 2014                Transformers: Age of Extinction   \n",
       "29  17   May 6, 2016                     Captain America: Civil War   \n",
       "30  38  Dec 20, 2017                 Jumanji: Welcome to the Jungle   \n",
       "31  57   Mar 4, 2016                                       Zootopia   \n",
       "32  47  Jun 18, 2010                                    Toy Story 3   \n",
       "33  93  May 19, 2004                                        Shrek 2   \n",
       "34  63  Nov 16, 2001        Harry Potter and the Sorcererâs Stone   \n",
       "35  45  Dec 16, 2016                   Rogue One: A Star Wars Story   \n",
       "36  25  May 30, 2003                                   Finding Nemo   \n",
       "37  28   Jul 7, 2006   Pirates of the Caribbean: Dead Manâs Chest   \n",
       "38  27  Dec 18, 2002          The Lord of the Rings: The Two Towers   \n",
       "39  84   Nov 2, 2018                              Bohemian Rhapsody   \n",
       "40  64  Nov 19, 2010   Harry Potter and the Deathly Hallows: Part I   \n",
       "41  51   Mar 5, 2010                            Alice in Wonderland   \n",
       "42  46  Jun 17, 2016                                   Finding Dory   \n",
       "43  75  Jul 18, 2008                                The Dark Knight   \n",
       "44  26   Jul 8, 2016                        The Secret Life of Pets   \n",
       "45  11  Jul 20, 2012                          The Dark Knight Rises   \n",
       "46  58  Jul 11, 2007      Harry Potter and the Order of the Phoenix   \n",
       "47  97  Apr 15, 2016                                The Jungle Book   \n",
       "48  14  Jul 13, 2012                     Ice Age: Continental Drift   \n",
       "49  26  Jun 11, 1982                      ET: The Extra-Terrestrial   \n",
       "\n",
       "    production_budget  domestic_gross  worldwide_gross  year  \\\n",
       "0           425000000       760507625       2776345279  2009   \n",
       "1           200000000       659363944       2208208395  1997   \n",
       "2           300000000       678815482       2048134200  2018   \n",
       "3           306000000       936662225       2053311220  2015   \n",
       "4           215000000       652270625       1648854864  2015   \n",
       "5           190000000       353007020       1518722794  2015   \n",
       "6           225000000       623279547       1517935897  2012   \n",
       "7           125000000       381193157       1341693157  2011   \n",
       "8           200000000       700059566       1348258224  2018   \n",
       "9           170000000       417719760       1305772799  2018   \n",
       "10          150000000       400738009       1272469910  2013   \n",
       "11          160000000       504014165       1259199706  2017   \n",
       "12           74000000       336045770       1160336173  2015   \n",
       "13          330600000       459005868       1403013963  2015   \n",
       "14           94000000       377845905       1141403341  2003   \n",
       "15          200000000       608581744       1242520711  2018   \n",
       "16          200000000       408992272       1215392272  2013   \n",
       "17          317000000       620181382       1316721747  2017   \n",
       "18          160000000       335061807       1146894640  2018   \n",
       "19          250000000       225764765       1234846267  2017   \n",
       "20           63000000       395708305       1038812584  1993   \n",
       "21           75000000       264624300       1034727750  2017   \n",
       "22          175000000       426525952       1123061550  2019   \n",
       "23          195000000       352390543       1123790543  2011   \n",
       "24          115000000       474544677       1027044677  1999   \n",
       "25          200000000       304360277       1110526981  2012   \n",
       "26           79300000       421785283        986214868  1994   \n",
       "27           76000000       368065385        975216835  2013   \n",
       "28          210000000       245439076       1104039076  2014   \n",
       "29          250000000       408084349       1140069413  2016   \n",
       "30           90000000       404508916        964496193  2017   \n",
       "31          150000000       341268248       1019429616  2016   \n",
       "32          200000000       415004880       1068879522  2010   \n",
       "33           70000000       441226247        937008132  2004   \n",
       "34          125000000       317871467        975047606  2001   \n",
       "35          200000000       532177324       1049102856  2016   \n",
       "36           94000000       380529370        936429370  2003   \n",
       "37          225000000       423315812       1066215812  2006   \n",
       "38           94000000       342548984        934699645  2002   \n",
       "39           55000000       216303339        894985342  2018   \n",
       "40          125000000       296131568        960431568  2010   \n",
       "41          200000000       334191110       1025491110  2010   \n",
       "42          200000000       486295561       1021215193  2016   \n",
       "43          185000000       533720947       1001996207  2008   \n",
       "44           75000000       368384330        886750534  2016   \n",
       "45          275000000       448139099       1084439099  2012   \n",
       "46          150000000       292137260        943076457  2007   \n",
       "47          175000000       364001123        962854547  2016   \n",
       "48           95000000       161321843        879765137  2012   \n",
       "49           10500000       435110554        792965326  1982   \n",
       "\n",
       "    budget_gross_profit awards nominations  \n",
       "0            2351345279      3           9  \n",
       "1            2008208395     11          14  \n",
       "2            1748134200   None        None  \n",
       "3            1747311220   None        None  \n",
       "4            1433854864   None        None  \n",
       "5            1328722794   None        None  \n",
       "6            1292935897   None        None  \n",
       "7            1216693157   None        None  \n",
       "8            1148258224      3           7  \n",
       "9            1135772799   None        None  \n",
       "10           1122469910      2           2  \n",
       "11           1099199706   None        None  \n",
       "12           1086336173   None        None  \n",
       "13           1072413963   None        None  \n",
       "14           1047403341     11          11  \n",
       "15           1042520711   None        None  \n",
       "16           1015392272   None        None  \n",
       "17            999721747   None        None  \n",
       "18            986894640   None        None  \n",
       "19            984846267   None        None  \n",
       "20            975812584      3           3  \n",
       "21            959727750   None        None  \n",
       "22            948061550   None        None  \n",
       "23            928790543   None        None  \n",
       "24            912044677   None        None  \n",
       "25            910526981      2           5  \n",
       "26            906914868      2           4  \n",
       "27            899216835   None        None  \n",
       "28            894039076   None        None  \n",
       "29            890069413   None        None  \n",
       "30            874496193   None        None  \n",
       "31            869429616      1           1  \n",
       "32            868879522      2           5  \n",
       "33            867008132   None        None  \n",
       "34            850047606   None        None  \n",
       "35            849102856   None        None  \n",
       "36            842429370      1           4  \n",
       "37            841215812   None        None  \n",
       "38            840699645      2           6  \n",
       "39            839985342      4           5  \n",
       "40            835431568   None        None  \n",
       "41            825491110      2           3  \n",
       "42            821215193   None        None  \n",
       "43            816996207      2           8  \n",
       "44            811750534   None        None  \n",
       "45            809439099   None        None  \n",
       "46            793076457   None        None  \n",
       "47            787854547      1           1  \n",
       "48            784765137   None        None  \n",
       "49            782465326   None        None  "
      ]
     },
     "execution_count": 444,
     "metadata": {},
     "output_type": "execute_result"
    }
   ],
   "source": [
    "cur.execute('''SELECT b.*, awards, nominations\n",
    "                FROM tn_movie_budgets_clean b\n",
    "                LEFT JOIN films_by_awards2 a\n",
    "                ON a.film = b.movie\n",
    "                AND a.year = b.year\n",
    "                ORDER BY budget_gross_profit DESC\n",
    "                ''')\n",
    "\n",
    "awards_to_budget_df = pd.DataFrame(cur.fetchall())\n",
    "awards_to_budget_df.columns = [x[0] for x in cur.description]\n",
    "awards_to_budget_df[:50]"
   ]
  },
  {
   "cell_type": "code",
   "execution_count": 445,
   "metadata": {
    "ExecuteTime": {
     "end_time": "2020-06-20T01:07:50.370248Z",
     "start_time": "2020-06-20T01:07:50.366444Z"
    }
   },
   "outputs": [],
   "source": [
    "import seaborn as sns\n",
    "import matplotlib.pyplot as plt\n",
    "%matplotlib inline"
   ]
  },
  {
   "cell_type": "markdown",
   "metadata": {},
   "source": [
    "# Data Cleaning"
   ]
  },
  {
   "cell_type": "code",
   "execution_count": 446,
   "metadata": {
    "ExecuteTime": {
     "end_time": "2020-06-20T01:07:52.080966Z",
     "start_time": "2020-06-20T01:07:52.076400Z"
    },
    "scrolled": true
   },
   "outputs": [
    {
     "data": {
      "text/plain": [
       "array(['3', '11', None, '2', '1', '4', '6', '7', '5', '8 (2)', '8',\n",
       "       '4 (1)', '0 (1)', '1 (1)', '9', '0 (2)', '10', '5 (1)', '7 (1)'],\n",
       "      dtype=object)"
      ]
     },
     "execution_count": 446,
     "metadata": {},
     "output_type": "execute_result"
    }
   ],
   "source": [
    "awards_to_budget_df['awards'].unique()"
   ]
  },
  {
   "cell_type": "code",
   "execution_count": 447,
   "metadata": {
    "ExecuteTime": {
     "end_time": "2020-06-20T01:07:53.858969Z",
     "start_time": "2020-06-20T01:07:53.855050Z"
    }
   },
   "outputs": [
    {
     "data": {
      "text/plain": [
       "array(['9', '14', None, '7', '2', '11', '3', '5', '4', '1', '6', '8',\n",
       "       '13', '10', '12', '10[4]\\n', '0', '6[11]\\n'], dtype=object)"
      ]
     },
     "execution_count": 447,
     "metadata": {},
     "output_type": "execute_result"
    }
   ],
   "source": [
    "awards_to_budget_df['nominations'].unique()"
   ]
  },
  {
   "cell_type": "markdown",
   "metadata": {},
   "source": [
    "cleaning awards data"
   ]
  },
  {
   "cell_type": "code",
   "execution_count": 448,
   "metadata": {
    "ExecuteTime": {
     "end_time": "2020-06-20T01:07:55.635281Z",
     "start_time": "2020-06-20T01:07:55.632361Z"
    }
   },
   "outputs": [],
   "source": [
    "def clean_vals(df, col):\n",
    "    df[col] = df[col].str.rstrip('\\n').str.replace(\"\\(.*\\)\", \"\").fillna(\"0\").astype('int')\n",
    "    return df"
   ]
  },
  {
   "cell_type": "code",
   "execution_count": 449,
   "metadata": {
    "ExecuteTime": {
     "end_time": "2020-06-20T01:07:57.345141Z",
     "start_time": "2020-06-20T01:07:57.339321Z"
    }
   },
   "outputs": [],
   "source": [
    "academy_award_cols = ['awards']\n",
    "\n",
    "for col in academy_award_cols:\n",
    "    awards_to_budget_df = clean_vals(awards_to_budget_df, col)"
   ]
  },
  {
   "cell_type": "code",
   "execution_count": 450,
   "metadata": {
    "ExecuteTime": {
     "end_time": "2020-06-20T01:07:59.064411Z",
     "start_time": "2020-06-20T01:07:59.060073Z"
    },
    "scrolled": true
   },
   "outputs": [
    {
     "data": {
      "text/plain": [
       "array([ 3, 11,  0,  2,  1,  4,  6,  7,  5,  8,  9, 10])"
      ]
     },
     "execution_count": 450,
     "metadata": {},
     "output_type": "execute_result"
    }
   ],
   "source": [
    "awards_to_budget_df['awards'].unique()"
   ]
  },
  {
   "cell_type": "code",
   "execution_count": 451,
   "metadata": {
    "ExecuteTime": {
     "end_time": "2020-06-20T01:08:00.830067Z",
     "start_time": "2020-06-20T01:08:00.825916Z"
    }
   },
   "outputs": [
    {
     "data": {
      "text/plain": [
       "array(['9', '14', None, '7', '2', '11', '3', '5', '4', '1', '6', '8',\n",
       "       '13', '10', '12', '10[4]\\n', '0', '6[11]\\n'], dtype=object)"
      ]
     },
     "execution_count": 451,
     "metadata": {},
     "output_type": "execute_result"
    }
   ],
   "source": [
    "awards_to_budget_df['nominations'].unique()"
   ]
  },
  {
   "cell_type": "markdown",
   "metadata": {
    "ExecuteTime": {
     "end_time": "2020-06-19T17:02:07.473918Z",
     "start_time": "2020-06-19T17:02:07.470005Z"
    }
   },
   "source": [
    "Cleaning the nominations list"
   ]
  },
  {
   "cell_type": "code",
   "execution_count": 452,
   "metadata": {
    "ExecuteTime": {
     "end_time": "2020-06-20T01:08:02.710851Z",
     "start_time": "2020-06-20T01:08:02.707423Z"
    }
   },
   "outputs": [
    {
     "data": {
      "text/plain": [
       "['10', '4]\\n']"
      ]
     },
     "execution_count": 452,
     "metadata": {},
     "output_type": "execute_result"
    }
   ],
   "source": [
    "'10[4]\\n'.split('[')"
   ]
  },
  {
   "cell_type": "code",
   "execution_count": 453,
   "metadata": {
    "ExecuteTime": {
     "end_time": "2020-06-20T01:08:04.486419Z",
     "start_time": "2020-06-20T01:08:04.481874Z"
    }
   },
   "outputs": [],
   "source": [
    "value_split = awards_to_budget_df['nominations'].str.split('[').fillna(\"0\")"
   ]
  },
  {
   "cell_type": "code",
   "execution_count": 454,
   "metadata": {
    "ExecuteTime": {
     "end_time": "2020-06-20T01:08:06.186366Z",
     "start_time": "2020-06-20T01:08:06.183074Z"
    }
   },
   "outputs": [
    {
     "data": {
      "text/plain": [
       "pandas.core.series.Series"
      ]
     },
     "execution_count": 454,
     "metadata": {},
     "output_type": "execute_result"
    }
   ],
   "source": [
    "type(value_split)"
   ]
  },
  {
   "cell_type": "code",
   "execution_count": 455,
   "metadata": {
    "ExecuteTime": {
     "end_time": "2020-06-20T01:08:07.865579Z",
     "start_time": "2020-06-20T01:08:07.861856Z"
    }
   },
   "outputs": [
    {
     "data": {
      "text/plain": [
       "'9'"
      ]
     },
     "execution_count": 455,
     "metadata": {},
     "output_type": "execute_result"
    }
   ],
   "source": [
    "(value_split[0][0])"
   ]
  },
  {
   "cell_type": "markdown",
   "metadata": {},
   "source": [
    "Reassigning the cleaned value back to the 'nominations' column"
   ]
  },
  {
   "cell_type": "code",
   "execution_count": 456,
   "metadata": {
    "ExecuteTime": {
     "end_time": "2020-06-20T01:08:09.691276Z",
     "start_time": "2020-06-20T01:08:09.684863Z"
    }
   },
   "outputs": [],
   "source": [
    "awards_to_budget_df['nominations'] = value_split.str.get(0).astype('int')"
   ]
  },
  {
   "cell_type": "code",
   "execution_count": 457,
   "metadata": {
    "ExecuteTime": {
     "end_time": "2020-06-20T01:08:11.574643Z",
     "start_time": "2020-06-20T01:08:11.570217Z"
    }
   },
   "outputs": [
    {
     "data": {
      "text/plain": [
       "array([ 9, 14,  0,  7,  2, 11,  3,  5,  4,  1,  6,  8, 13, 10, 12])"
      ]
     },
     "execution_count": 457,
     "metadata": {},
     "output_type": "execute_result"
    }
   ],
   "source": [
    "awards_to_budget_df['nominations'].unique()"
   ]
  },
  {
   "cell_type": "markdown",
   "metadata": {},
   "source": [
    "Remove movies which have not been released yet"
   ]
  },
  {
   "cell_type": "code",
   "execution_count": 458,
   "metadata": {
    "ExecuteTime": {
     "end_time": "2020-06-20T01:08:13.525530Z",
     "start_time": "2020-06-20T01:08:13.511725Z"
    }
   },
   "outputs": [
    {
     "data": {
      "text/html": [
       "<div>\n",
       "<style scoped>\n",
       "    .dataframe tbody tr th:only-of-type {\n",
       "        vertical-align: middle;\n",
       "    }\n",
       "\n",
       "    .dataframe tbody tr th {\n",
       "        vertical-align: top;\n",
       "    }\n",
       "\n",
       "    .dataframe thead th {\n",
       "        text-align: right;\n",
       "    }\n",
       "</style>\n",
       "<table border=\"1\" class=\"dataframe\">\n",
       "  <thead>\n",
       "    <tr style=\"text-align: right;\">\n",
       "      <th></th>\n",
       "      <th>id</th>\n",
       "      <th>release_date</th>\n",
       "      <th>movie</th>\n",
       "      <th>production_budget</th>\n",
       "      <th>domestic_gross</th>\n",
       "      <th>worldwide_gross</th>\n",
       "      <th>year</th>\n",
       "      <th>budget_gross_profit</th>\n",
       "      <th>awards</th>\n",
       "      <th>nominations</th>\n",
       "    </tr>\n",
       "  </thead>\n",
       "  <tbody>\n",
       "    <tr>\n",
       "      <td>3658</td>\n",
       "      <td>81</td>\n",
       "      <td>Sep 29, 2015</td>\n",
       "      <td>A Plague So Pleasant</td>\n",
       "      <td>1400</td>\n",
       "      <td>0</td>\n",
       "      <td>0</td>\n",
       "      <td>2015</td>\n",
       "      <td>-1400</td>\n",
       "      <td>0</td>\n",
       "      <td>0</td>\n",
       "    </tr>\n",
       "    <tr>\n",
       "      <td>3663</td>\n",
       "      <td>78</td>\n",
       "      <td>Dec 31, 2018</td>\n",
       "      <td>Red 11</td>\n",
       "      <td>7000</td>\n",
       "      <td>0</td>\n",
       "      <td>0</td>\n",
       "      <td>2018</td>\n",
       "      <td>-7000</td>\n",
       "      <td>0</td>\n",
       "      <td>0</td>\n",
       "    </tr>\n",
       "    <tr>\n",
       "      <td>3667</td>\n",
       "      <td>72</td>\n",
       "      <td>May 19, 2015</td>\n",
       "      <td>Family Motocross</td>\n",
       "      <td>10000</td>\n",
       "      <td>0</td>\n",
       "      <td>0</td>\n",
       "      <td>2015</td>\n",
       "      <td>-10000</td>\n",
       "      <td>0</td>\n",
       "      <td>0</td>\n",
       "    </tr>\n",
       "    <tr>\n",
       "      <td>3669</td>\n",
       "      <td>65</td>\n",
       "      <td>Dec 31, 2007</td>\n",
       "      <td>Tin Can Man</td>\n",
       "      <td>12000</td>\n",
       "      <td>0</td>\n",
       "      <td>0</td>\n",
       "      <td>2007</td>\n",
       "      <td>-12000</td>\n",
       "      <td>0</td>\n",
       "      <td>0</td>\n",
       "    </tr>\n",
       "    <tr>\n",
       "      <td>3673</td>\n",
       "      <td>62</td>\n",
       "      <td>Dec 31, 2014</td>\n",
       "      <td>Stories of Our Lives</td>\n",
       "      <td>15000</td>\n",
       "      <td>0</td>\n",
       "      <td>0</td>\n",
       "      <td>2014</td>\n",
       "      <td>-15000</td>\n",
       "      <td>0</td>\n",
       "      <td>0</td>\n",
       "    </tr>\n",
       "    <tr>\n",
       "      <td>...</td>\n",
       "      <td>...</td>\n",
       "      <td>...</td>\n",
       "      <td>...</td>\n",
       "      <td>...</td>\n",
       "      <td>...</td>\n",
       "      <td>...</td>\n",
       "      <td>...</td>\n",
       "      <td>...</td>\n",
       "      <td>...</td>\n",
       "      <td>...</td>\n",
       "    </tr>\n",
       "    <tr>\n",
       "      <td>5770</td>\n",
       "      <td>72</td>\n",
       "      <td>Dec 31, 2019</td>\n",
       "      <td>355</td>\n",
       "      <td>75000000</td>\n",
       "      <td>0</td>\n",
       "      <td>0</td>\n",
       "      <td>2019</td>\n",
       "      <td>-75000000</td>\n",
       "      <td>0</td>\n",
       "      <td>0</td>\n",
       "    </tr>\n",
       "    <tr>\n",
       "      <td>5773</td>\n",
       "      <td>36</td>\n",
       "      <td>Feb 21, 2020</td>\n",
       "      <td>Call of the Wild</td>\n",
       "      <td>82000000</td>\n",
       "      <td>0</td>\n",
       "      <td>0</td>\n",
       "      <td>2020</td>\n",
       "      <td>-82000000</td>\n",
       "      <td>0</td>\n",
       "      <td>0</td>\n",
       "    </tr>\n",
       "    <tr>\n",
       "      <td>5774</td>\n",
       "      <td>80</td>\n",
       "      <td>Dec 13, 2017</td>\n",
       "      <td>Bright</td>\n",
       "      <td>90000000</td>\n",
       "      <td>0</td>\n",
       "      <td>0</td>\n",
       "      <td>2017</td>\n",
       "      <td>-90000000</td>\n",
       "      <td>0</td>\n",
       "      <td>0</td>\n",
       "    </tr>\n",
       "    <tr>\n",
       "      <td>5775</td>\n",
       "      <td>81</td>\n",
       "      <td>Dec 31, 2019</td>\n",
       "      <td>Army of the Dead</td>\n",
       "      <td>90000000</td>\n",
       "      <td>0</td>\n",
       "      <td>0</td>\n",
       "      <td>2019</td>\n",
       "      <td>-90000000</td>\n",
       "      <td>0</td>\n",
       "      <td>0</td>\n",
       "    </tr>\n",
       "    <tr>\n",
       "      <td>5780</td>\n",
       "      <td>95</td>\n",
       "      <td>Dec 31, 2020</td>\n",
       "      <td>Moonfall</td>\n",
       "      <td>150000000</td>\n",
       "      <td>0</td>\n",
       "      <td>0</td>\n",
       "      <td>2020</td>\n",
       "      <td>-150000000</td>\n",
       "      <td>0</td>\n",
       "      <td>0</td>\n",
       "    </tr>\n",
       "  </tbody>\n",
       "</table>\n",
       "<p>367 rows × 10 columns</p>\n",
       "</div>"
      ],
      "text/plain": [
       "      id  release_date                 movie  production_budget  \\\n",
       "3658  81  Sep 29, 2015  A Plague So Pleasant               1400   \n",
       "3663  78  Dec 31, 2018                Red 11               7000   \n",
       "3667  72  May 19, 2015      Family Motocross              10000   \n",
       "3669  65  Dec 31, 2007           Tin Can Man              12000   \n",
       "3673  62  Dec 31, 2014  Stories of Our Lives              15000   \n",
       "...   ..           ...                   ...                ...   \n",
       "5770  72  Dec 31, 2019                   355           75000000   \n",
       "5773  36  Feb 21, 2020      Call of the Wild           82000000   \n",
       "5774  80  Dec 13, 2017                Bright           90000000   \n",
       "5775  81  Dec 31, 2019      Army of the Dead           90000000   \n",
       "5780  95  Dec 31, 2020              Moonfall          150000000   \n",
       "\n",
       "      domestic_gross  worldwide_gross  year  budget_gross_profit  awards  \\\n",
       "3658               0                0  2015                -1400       0   \n",
       "3663               0                0  2018                -7000       0   \n",
       "3667               0                0  2015               -10000       0   \n",
       "3669               0                0  2007               -12000       0   \n",
       "3673               0                0  2014               -15000       0   \n",
       "...              ...              ...   ...                  ...     ...   \n",
       "5770               0                0  2019            -75000000       0   \n",
       "5773               0                0  2020            -82000000       0   \n",
       "5774               0                0  2017            -90000000       0   \n",
       "5775               0                0  2019            -90000000       0   \n",
       "5780               0                0  2020           -150000000       0   \n",
       "\n",
       "      nominations  \n",
       "3658            0  \n",
       "3663            0  \n",
       "3667            0  \n",
       "3669            0  \n",
       "3673            0  \n",
       "...           ...  \n",
       "5770            0  \n",
       "5773            0  \n",
       "5774            0  \n",
       "5775            0  \n",
       "5780            0  \n",
       "\n",
       "[367 rows x 10 columns]"
      ]
     },
     "execution_count": 458,
     "metadata": {},
     "output_type": "execute_result"
    }
   ],
   "source": [
    "current_movies = awards_to_budget_df[awards_to_budget_df['worldwide_gross'] == 0]\n",
    "current_movies"
   ]
  },
  {
   "cell_type": "code",
   "execution_count": 459,
   "metadata": {
    "ExecuteTime": {
     "end_time": "2020-06-20T01:08:15.336606Z",
     "start_time": "2020-06-20T01:08:15.330779Z"
    }
   },
   "outputs": [],
   "source": [
    "gross_index = awards_to_budget_df[awards_to_budget_df['worldwide_gross'] == 0].index\n",
    "awards_to_budget_df.drop(gross_index, inplace=True)"
   ]
  },
  {
   "cell_type": "code",
   "execution_count": 460,
   "metadata": {
    "ExecuteTime": {
     "end_time": "2020-06-20T01:08:17.063890Z",
     "start_time": "2020-06-20T01:08:17.056414Z"
    }
   },
   "outputs": [
    {
     "name": "stdout",
     "output_type": "stream",
     "text": [
      "<class 'pandas.core.frame.DataFrame'>\n",
      "Int64Index: 5415 entries, 0 to 5781\n",
      "Data columns (total 10 columns):\n",
      "id                     5415 non-null int64\n",
      "release_date           5415 non-null object\n",
      "movie                  5415 non-null object\n",
      "production_budget      5415 non-null int64\n",
      "domestic_gross         5415 non-null int64\n",
      "worldwide_gross        5415 non-null int64\n",
      "year                   5415 non-null int64\n",
      "budget_gross_profit    5415 non-null int64\n",
      "awards                 5415 non-null int64\n",
      "nominations            5415 non-null int64\n",
      "dtypes: int64(8), object(2)\n",
      "memory usage: 465.4+ KB\n"
     ]
    }
   ],
   "source": [
    "awards_to_budget_df.info()"
   ]
  },
  {
   "cell_type": "markdown",
   "metadata": {},
   "source": [
    "Create column for boolean value of nomination (nominated or not)"
   ]
  },
  {
   "cell_type": "code",
   "execution_count": 461,
   "metadata": {
    "ExecuteTime": {
     "end_time": "2020-06-20T01:08:19.090205Z",
     "start_time": "2020-06-20T01:08:19.071562Z"
    }
   },
   "outputs": [
    {
     "data": {
      "text/html": [
       "<div>\n",
       "<style scoped>\n",
       "    .dataframe tbody tr th:only-of-type {\n",
       "        vertical-align: middle;\n",
       "    }\n",
       "\n",
       "    .dataframe tbody tr th {\n",
       "        vertical-align: top;\n",
       "    }\n",
       "\n",
       "    .dataframe thead th {\n",
       "        text-align: right;\n",
       "    }\n",
       "</style>\n",
       "<table border=\"1\" class=\"dataframe\">\n",
       "  <thead>\n",
       "    <tr style=\"text-align: right;\">\n",
       "      <th></th>\n",
       "      <th>id</th>\n",
       "      <th>release_date</th>\n",
       "      <th>movie</th>\n",
       "      <th>production_budget</th>\n",
       "      <th>domestic_gross</th>\n",
       "      <th>worldwide_gross</th>\n",
       "      <th>year</th>\n",
       "      <th>budget_gross_profit</th>\n",
       "      <th>awards</th>\n",
       "      <th>nominations</th>\n",
       "      <th>nominated</th>\n",
       "    </tr>\n",
       "  </thead>\n",
       "  <tbody>\n",
       "    <tr>\n",
       "      <td>0</td>\n",
       "      <td>1</td>\n",
       "      <td>Dec 18, 2009</td>\n",
       "      <td>Avatar</td>\n",
       "      <td>425000000</td>\n",
       "      <td>760507625</td>\n",
       "      <td>2776345279</td>\n",
       "      <td>2009</td>\n",
       "      <td>2351345279</td>\n",
       "      <td>3</td>\n",
       "      <td>9</td>\n",
       "      <td>True</td>\n",
       "    </tr>\n",
       "    <tr>\n",
       "      <td>1</td>\n",
       "      <td>43</td>\n",
       "      <td>Dec 19, 1997</td>\n",
       "      <td>Titanic</td>\n",
       "      <td>200000000</td>\n",
       "      <td>659363944</td>\n",
       "      <td>2208208395</td>\n",
       "      <td>1997</td>\n",
       "      <td>2008208395</td>\n",
       "      <td>11</td>\n",
       "      <td>14</td>\n",
       "      <td>True</td>\n",
       "    </tr>\n",
       "    <tr>\n",
       "      <td>2</td>\n",
       "      <td>7</td>\n",
       "      <td>Apr 27, 2018</td>\n",
       "      <td>Avengers: Infinity War</td>\n",
       "      <td>300000000</td>\n",
       "      <td>678815482</td>\n",
       "      <td>2048134200</td>\n",
       "      <td>2018</td>\n",
       "      <td>1748134200</td>\n",
       "      <td>0</td>\n",
       "      <td>0</td>\n",
       "      <td>False</td>\n",
       "    </tr>\n",
       "    <tr>\n",
       "      <td>3</td>\n",
       "      <td>6</td>\n",
       "      <td>Dec 18, 2015</td>\n",
       "      <td>Star Wars Ep. VII: The Force Awakens</td>\n",
       "      <td>306000000</td>\n",
       "      <td>936662225</td>\n",
       "      <td>2053311220</td>\n",
       "      <td>2015</td>\n",
       "      <td>1747311220</td>\n",
       "      <td>0</td>\n",
       "      <td>0</td>\n",
       "      <td>False</td>\n",
       "    </tr>\n",
       "    <tr>\n",
       "      <td>4</td>\n",
       "      <td>34</td>\n",
       "      <td>Jun 12, 2015</td>\n",
       "      <td>Jurassic World</td>\n",
       "      <td>215000000</td>\n",
       "      <td>652270625</td>\n",
       "      <td>1648854864</td>\n",
       "      <td>2015</td>\n",
       "      <td>1433854864</td>\n",
       "      <td>0</td>\n",
       "      <td>0</td>\n",
       "      <td>False</td>\n",
       "    </tr>\n",
       "    <tr>\n",
       "      <td>...</td>\n",
       "      <td>...</td>\n",
       "      <td>...</td>\n",
       "      <td>...</td>\n",
       "      <td>...</td>\n",
       "      <td>...</td>\n",
       "      <td>...</td>\n",
       "      <td>...</td>\n",
       "      <td>...</td>\n",
       "      <td>...</td>\n",
       "      <td>...</td>\n",
       "      <td>...</td>\n",
       "    </tr>\n",
       "    <tr>\n",
       "      <td>5776</td>\n",
       "      <td>5</td>\n",
       "      <td>Aug 16, 2002</td>\n",
       "      <td>The Adventures of Pluto Nash</td>\n",
       "      <td>100000000</td>\n",
       "      <td>4411102</td>\n",
       "      <td>7094995</td>\n",
       "      <td>2002</td>\n",
       "      <td>-92905005</td>\n",
       "      <td>0</td>\n",
       "      <td>0</td>\n",
       "      <td>False</td>\n",
       "    </tr>\n",
       "    <tr>\n",
       "      <td>5777</td>\n",
       "      <td>53</td>\n",
       "      <td>Apr 27, 2001</td>\n",
       "      <td>Town &amp; Country</td>\n",
       "      <td>105000000</td>\n",
       "      <td>6712451</td>\n",
       "      <td>10364769</td>\n",
       "      <td>2001</td>\n",
       "      <td>-94635231</td>\n",
       "      <td>0</td>\n",
       "      <td>0</td>\n",
       "      <td>False</td>\n",
       "    </tr>\n",
       "    <tr>\n",
       "      <td>5778</td>\n",
       "      <td>42</td>\n",
       "      <td>Jun 14, 2019</td>\n",
       "      <td>Men in Black: International</td>\n",
       "      <td>110000000</td>\n",
       "      <td>3100000</td>\n",
       "      <td>3100000</td>\n",
       "      <td>2019</td>\n",
       "      <td>-106900000</td>\n",
       "      <td>0</td>\n",
       "      <td>0</td>\n",
       "      <td>False</td>\n",
       "    </tr>\n",
       "    <tr>\n",
       "      <td>5779</td>\n",
       "      <td>94</td>\n",
       "      <td>Mar 11, 2011</td>\n",
       "      <td>Mars Needs Moms</td>\n",
       "      <td>150000000</td>\n",
       "      <td>21392758</td>\n",
       "      <td>39549758</td>\n",
       "      <td>2011</td>\n",
       "      <td>-110450242</td>\n",
       "      <td>0</td>\n",
       "      <td>0</td>\n",
       "      <td>False</td>\n",
       "    </tr>\n",
       "    <tr>\n",
       "      <td>5781</td>\n",
       "      <td>3</td>\n",
       "      <td>Jun 7, 2019</td>\n",
       "      <td>Dark Phoenix</td>\n",
       "      <td>350000000</td>\n",
       "      <td>42762350</td>\n",
       "      <td>149762350</td>\n",
       "      <td>2019</td>\n",
       "      <td>-200237650</td>\n",
       "      <td>0</td>\n",
       "      <td>0</td>\n",
       "      <td>False</td>\n",
       "    </tr>\n",
       "  </tbody>\n",
       "</table>\n",
       "<p>5415 rows × 11 columns</p>\n",
       "</div>"
      ],
      "text/plain": [
       "      id  release_date                                 movie  \\\n",
       "0      1  Dec 18, 2009                                Avatar   \n",
       "1     43  Dec 19, 1997                               Titanic   \n",
       "2      7  Apr 27, 2018                Avengers: Infinity War   \n",
       "3      6  Dec 18, 2015  Star Wars Ep. VII: The Force Awakens   \n",
       "4     34  Jun 12, 2015                        Jurassic World   \n",
       "...   ..           ...                                   ...   \n",
       "5776   5  Aug 16, 2002          The Adventures of Pluto Nash   \n",
       "5777  53  Apr 27, 2001                        Town & Country   \n",
       "5778  42  Jun 14, 2019           Men in Black: International   \n",
       "5779  94  Mar 11, 2011                       Mars Needs Moms   \n",
       "5781   3   Jun 7, 2019                          Dark Phoenix   \n",
       "\n",
       "      production_budget  domestic_gross  worldwide_gross  year  \\\n",
       "0             425000000       760507625       2776345279  2009   \n",
       "1             200000000       659363944       2208208395  1997   \n",
       "2             300000000       678815482       2048134200  2018   \n",
       "3             306000000       936662225       2053311220  2015   \n",
       "4             215000000       652270625       1648854864  2015   \n",
       "...                 ...             ...              ...   ...   \n",
       "5776          100000000         4411102          7094995  2002   \n",
       "5777          105000000         6712451         10364769  2001   \n",
       "5778          110000000         3100000          3100000  2019   \n",
       "5779          150000000        21392758         39549758  2011   \n",
       "5781          350000000        42762350        149762350  2019   \n",
       "\n",
       "      budget_gross_profit  awards  nominations  nominated  \n",
       "0              2351345279       3            9       True  \n",
       "1              2008208395      11           14       True  \n",
       "2              1748134200       0            0      False  \n",
       "3              1747311220       0            0      False  \n",
       "4              1433854864       0            0      False  \n",
       "...                   ...     ...          ...        ...  \n",
       "5776            -92905005       0            0      False  \n",
       "5777            -94635231       0            0      False  \n",
       "5778           -106900000       0            0      False  \n",
       "5779           -110450242       0            0      False  \n",
       "5781           -200237650       0            0      False  \n",
       "\n",
       "[5415 rows x 11 columns]"
      ]
     },
     "execution_count": 461,
     "metadata": {},
     "output_type": "execute_result"
    }
   ],
   "source": [
    "awards_to_budget_df['nominated'] = (awards_to_budget_df['nominations'] > 0)\n",
    "awards_to_budget_df"
   ]
  },
  {
   "cell_type": "markdown",
   "metadata": {},
   "source": [
    "creating simple frame with only our desired data"
   ]
  },
  {
   "cell_type": "code",
   "execution_count": 462,
   "metadata": {
    "ExecuteTime": {
     "end_time": "2020-06-20T01:08:20.982218Z",
     "start_time": "2020-06-20T01:08:20.950866Z"
    }
   },
   "outputs": [
    {
     "data": {
      "text/html": [
       "<div>\n",
       "<style scoped>\n",
       "    .dataframe tbody tr th:only-of-type {\n",
       "        vertical-align: middle;\n",
       "    }\n",
       "\n",
       "    .dataframe tbody tr th {\n",
       "        vertical-align: top;\n",
       "    }\n",
       "\n",
       "    .dataframe thead th {\n",
       "        text-align: right;\n",
       "    }\n",
       "</style>\n",
       "<table border=\"1\" class=\"dataframe\">\n",
       "  <thead>\n",
       "    <tr style=\"text-align: right;\">\n",
       "      <th></th>\n",
       "      <th>id</th>\n",
       "      <th>production_budget</th>\n",
       "      <th>domestic_gross</th>\n",
       "      <th>worldwide_gross</th>\n",
       "      <th>year</th>\n",
       "      <th>budget_gross_profit</th>\n",
       "      <th>awards</th>\n",
       "      <th>nominations</th>\n",
       "    </tr>\n",
       "  </thead>\n",
       "  <tbody>\n",
       "    <tr>\n",
       "      <td>count</td>\n",
       "      <td>5415.000000</td>\n",
       "      <td>5.415000e+03</td>\n",
       "      <td>5.415000e+03</td>\n",
       "      <td>5.415000e+03</td>\n",
       "      <td>5415.000000</td>\n",
       "      <td>5.415000e+03</td>\n",
       "      <td>5415.000000</td>\n",
       "      <td>5415.000000</td>\n",
       "    </tr>\n",
       "    <tr>\n",
       "      <td>mean</td>\n",
       "      <td>50.227701</td>\n",
       "      <td>3.330801e+07</td>\n",
       "      <td>4.471128e+07</td>\n",
       "      <td>9.768800e+07</td>\n",
       "      <td>2003.599446</td>\n",
       "      <td>6.437999e+07</td>\n",
       "      <td>0.155309</td>\n",
       "      <td>0.373961</td>\n",
       "    </tr>\n",
       "    <tr>\n",
       "      <td>std</td>\n",
       "      <td>28.765167</td>\n",
       "      <td>4.248758e+07</td>\n",
       "      <td>6.960989e+07</td>\n",
       "      <td>1.788591e+08</td>\n",
       "      <td>12.546965</td>\n",
       "      <td>1.498581e+08</td>\n",
       "      <td>0.782424</td>\n",
       "      <td>1.645971</td>\n",
       "    </tr>\n",
       "    <tr>\n",
       "      <td>min</td>\n",
       "      <td>1.000000</td>\n",
       "      <td>1.100000e+03</td>\n",
       "      <td>0.000000e+00</td>\n",
       "      <td>2.600000e+01</td>\n",
       "      <td>1915.000000</td>\n",
       "      <td>-2.002376e+08</td>\n",
       "      <td>0.000000</td>\n",
       "      <td>0.000000</td>\n",
       "    </tr>\n",
       "    <tr>\n",
       "      <td>25%</td>\n",
       "      <td>25.000000</td>\n",
       "      <td>6.000000e+06</td>\n",
       "      <td>3.160708e+06</td>\n",
       "      <td>7.004834e+06</td>\n",
       "      <td>1999.000000</td>\n",
       "      <td>-1.862082e+06</td>\n",
       "      <td>0.000000</td>\n",
       "      <td>0.000000</td>\n",
       "    </tr>\n",
       "    <tr>\n",
       "      <td>50%</td>\n",
       "      <td>50.000000</td>\n",
       "      <td>1.900000e+07</td>\n",
       "      <td>2.030022e+07</td>\n",
       "      <td>3.333987e+07</td>\n",
       "      <td>2006.000000</td>\n",
       "      <td>1.190000e+07</td>\n",
       "      <td>0.000000</td>\n",
       "      <td>0.000000</td>\n",
       "    </tr>\n",
       "    <tr>\n",
       "      <td>75%</td>\n",
       "      <td>75.000000</td>\n",
       "      <td>4.200000e+07</td>\n",
       "      <td>5.578249e+07</td>\n",
       "      <td>1.044590e+08</td>\n",
       "      <td>2012.000000</td>\n",
       "      <td>6.737924e+07</td>\n",
       "      <td>0.000000</td>\n",
       "      <td>0.000000</td>\n",
       "    </tr>\n",
       "    <tr>\n",
       "      <td>max</td>\n",
       "      <td>100.000000</td>\n",
       "      <td>4.250000e+08</td>\n",
       "      <td>9.366622e+08</td>\n",
       "      <td>2.776345e+09</td>\n",
       "      <td>2019.000000</td>\n",
       "      <td>2.351345e+09</td>\n",
       "      <td>11.000000</td>\n",
       "      <td>14.000000</td>\n",
       "    </tr>\n",
       "  </tbody>\n",
       "</table>\n",
       "</div>"
      ],
      "text/plain": [
       "                id  production_budget  domestic_gross  worldwide_gross  \\\n",
       "count  5415.000000       5.415000e+03    5.415000e+03     5.415000e+03   \n",
       "mean     50.227701       3.330801e+07    4.471128e+07     9.768800e+07   \n",
       "std      28.765167       4.248758e+07    6.960989e+07     1.788591e+08   \n",
       "min       1.000000       1.100000e+03    0.000000e+00     2.600000e+01   \n",
       "25%      25.000000       6.000000e+06    3.160708e+06     7.004834e+06   \n",
       "50%      50.000000       1.900000e+07    2.030022e+07     3.333987e+07   \n",
       "75%      75.000000       4.200000e+07    5.578249e+07     1.044590e+08   \n",
       "max     100.000000       4.250000e+08    9.366622e+08     2.776345e+09   \n",
       "\n",
       "              year  budget_gross_profit       awards  nominations  \n",
       "count  5415.000000         5.415000e+03  5415.000000  5415.000000  \n",
       "mean   2003.599446         6.437999e+07     0.155309     0.373961  \n",
       "std      12.546965         1.498581e+08     0.782424     1.645971  \n",
       "min    1915.000000        -2.002376e+08     0.000000     0.000000  \n",
       "25%    1999.000000        -1.862082e+06     0.000000     0.000000  \n",
       "50%    2006.000000         1.190000e+07     0.000000     0.000000  \n",
       "75%    2012.000000         6.737924e+07     0.000000     0.000000  \n",
       "max    2019.000000         2.351345e+09    11.000000    14.000000  "
      ]
     },
     "execution_count": 462,
     "metadata": {},
     "output_type": "execute_result"
    }
   ],
   "source": [
    "awards_to_budget_df.describe()"
   ]
  },
  {
   "cell_type": "code",
   "execution_count": 463,
   "metadata": {
    "ExecuteTime": {
     "end_time": "2020-06-20T01:08:23.200778Z",
     "start_time": "2020-06-20T01:08:22.937238Z"
    }
   },
   "outputs": [
    {
     "name": "stderr",
     "output_type": "stream",
     "text": [
      "'c' argument looks like a single numeric RGB or RGBA sequence, which should be avoided as value-mapping will have precedence in case its length matches with 'x' & 'y'.  Please use a 2-D array with a single row if you really want to specify the same RGB or RGBA value for all points.\n"
     ]
    },
    {
     "data": {
      "image/png": "[encoded data removed]",
      "text/plain": [
       "<Figure size 432x288 with 1 Axes>"
      ]
     },
     "metadata": {
      "needs_background": "light"
     },
     "output_type": "display_data"
    }
   ],
   "source": [
    "ax = awards_to_budget_df.plot.scatter(x='awards', y='production_budget')"
   ]
  },
  {
   "cell_type": "code",
   "execution_count": 464,
   "metadata": {
    "ExecuteTime": {
     "end_time": "2020-06-20T01:08:24.986019Z",
     "start_time": "2020-06-20T01:08:24.983667Z"
    }
   },
   "outputs": [],
   "source": [
    "import seaborn as sns"
   ]
  },
  {
   "cell_type": "code",
   "execution_count": 465,
   "metadata": {
    "ExecuteTime": {
     "end_time": "2020-06-20T01:08:27.160183Z",
     "start_time": "2020-06-20T01:08:26.746216Z"
    },
    "scrolled": true
   },
   "outputs": [
    {
     "data": {
      "text/plain": [
       "<matplotlib.axes._subplots.AxesSubplot at 0x14d1bfa58>"
      ]
     },
     "execution_count": 465,
     "metadata": {},
     "output_type": "execute_result"
    },
    {
     "data": {
      "image/png": "[encoded data removed]",
      "text/plain": [
       "<Figure size 576x576 with 1 Axes>"
      ]
     },
     "metadata": {},
     "output_type": "display_data"
    }
   ],
   "source": [
    "sns.set(style=\"darkgrid\")\n",
    "\n",
    "\n",
    "# Draw a scatter plot while assigning point colors and sizes to different\n",
    "# variables in the dataset\n",
    "f, ax = plt.subplots(figsize=(8, 8))\n",
    "sns.despine(f, left=True, bottom=True)\n",
    "sns.scatterplot(x=\"awards\", y=\"production_budget\",\n",
    "                hue=\"year\",\n",
    "                hue_order='year',\n",
    "                sizes=(1, 8), linewidth=0,\n",
    "                data=awards_to_budget_df, ax=ax)\n",
    "\n"
   ]
  },
  {
   "cell_type": "code",
   "execution_count": 466,
   "metadata": {
    "ExecuteTime": {
     "end_time": "2020-06-20T01:08:29.320727Z",
     "start_time": "2020-06-20T01:08:28.904595Z"
    }
   },
   "outputs": [
    {
     "data": {
      "text/plain": [
       "<matplotlib.axes._subplots.AxesSubplot at 0x14b2c38d0>"
      ]
     },
     "execution_count": 466,
     "metadata": {},
     "output_type": "execute_result"
    },
    {
     "data": {
      "image/png": "[encoded data removed]",
      "text/plain": [
       "<Figure size 504x504 with 1 Axes>"
      ]
     },
     "metadata": {},
     "output_type": "display_data"
    }
   ],
   "source": [
    "sns.set(style=\"darkgrid\")\n",
    "\n",
    "\n",
    "# Draw a scatter plot while assigning point colors and sizes to different\n",
    "# variables in the dataset\n",
    "f, ax = plt.subplots(figsize=(7, 7))\n",
    "sns.despine(f, left=True, bottom=True)\n",
    "sns.scatterplot(x=\"nominations\", y=\"production_budget\",\n",
    "                hue=\"year\",\n",
    "                hue_order='year',\n",
    "                sizes=(1, 8), linewidth=0,\n",
    "                data=awards_to_budget_df, ax=ax)\n",
    "\n"
   ]
  },
  {
   "cell_type": "code",
   "execution_count": 467,
   "metadata": {
    "ExecuteTime": {
     "end_time": "2020-06-20T01:08:31.256848Z",
     "start_time": "2020-06-20T01:08:31.073240Z"
    },
    "scrolled": false
   },
   "outputs": [
    {
     "data": {
      "image/png": "[encoded data removed]",
      "text/plain": [
       "<Figure size 864x864 with 1 Axes>"
      ]
     },
     "metadata": {},
     "output_type": "display_data"
    }
   ],
   "source": [
    "f, ax = plt.subplots(figsize=(12, 12))\n",
    "\n",
    "sns.boxplot(x=\"nominated\", y=\"production_budget\",\n",
    "            hue=\"nominated\", palette=[\"m\", \"g\"],\n",
    "            data=awards_to_budget_df)\n",
    "\n",
    "sns.despine(offset=10, trim=True)"
   ]
  },
  {
   "cell_type": "markdown",
   "metadata": {},
   "source": [
    "The distribution of our data is thrown off balance by some far-reaching outliers. Let's remove the most extreme."
   ]
  },
  {
   "cell_type": "code",
   "execution_count": 468,
   "metadata": {
    "ExecuteTime": {
     "end_time": "2020-06-20T01:08:33.002252Z",
     "start_time": "2020-06-20T01:08:32.994933Z"
    }
   },
   "outputs": [
    {
     "name": "stdout",
     "output_type": "stream",
     "text": [
      "Int64Index([   0,    2,    3,    4,    6,   13,   17,   19,   28,   29,   37,\n",
      "              45,   54,   61,   63,   65,   73,   81,   82,   85,   89,  101,\n",
      "             108,  123,  167,  170,  210,  232,  236,  246,  264,  396,  530,\n",
      "             633,  729,  883,  916, 1072, 1708, 2277, 2783, 2942, 3161, 3221,\n",
      "            3292, 3310, 3360, 3383, 3456, 3501, 3518, 3535, 3547, 3559, 3563,\n",
      "            3565, 3574, 3576, 3589, 3590, 3596, 3601, 3602, 3606, 3609, 3613,\n",
      "            3616, 3619, 3623, 3630, 3633, 3638, 3660, 3661, 3662, 3664, 3665,\n",
      "            3666, 3668, 3671, 3675, 3681, 3683, 3689, 3692, 3697, 3700, 3711,\n",
      "            3717, 3718, 3719, 5341, 5781],\n",
      "           dtype='int64')\n"
     ]
    }
   ],
   "source": [
    "budget = awards_to_budget_df['production_budget']\n",
    "removed_outliers = budget.between(budget.quantile(.01), budget.quantile(.99))\n",
    "index_names = df[~removed_outliers].index # \"~\" is inverting the dataframe\n",
    "print(index_names)"
   ]
  },
  {
   "cell_type": "code",
   "execution_count": 469,
   "metadata": {
    "ExecuteTime": {
     "end_time": "2020-06-20T01:08:34.725158Z",
     "start_time": "2020-06-20T01:08:34.720529Z"
    }
   },
   "outputs": [],
   "source": [
    "awards_to_budget_df.drop(index_names, inplace=True)"
   ]
  },
  {
   "cell_type": "code",
   "execution_count": 474,
   "metadata": {
    "ExecuteTime": {
     "end_time": "2020-06-20T01:14:59.802797Z",
     "start_time": "2020-06-20T01:14:59.766113Z"
    }
   },
   "outputs": [
    {
     "data": {
      "text/html": [
       "<div>\n",
       "<style scoped>\n",
       "    .dataframe tbody tr th:only-of-type {\n",
       "        vertical-align: middle;\n",
       "    }\n",
       "\n",
       "    .dataframe tbody tr th {\n",
       "        vertical-align: top;\n",
       "    }\n",
       "\n",
       "    .dataframe thead th {\n",
       "        text-align: right;\n",
       "    }\n",
       "</style>\n",
       "<table border=\"1\" class=\"dataframe\">\n",
       "  <thead>\n",
       "    <tr style=\"text-align: right;\">\n",
       "      <th></th>\n",
       "      <th>id</th>\n",
       "      <th>production_budget</th>\n",
       "      <th>domestic_gross</th>\n",
       "      <th>worldwide_gross</th>\n",
       "      <th>year</th>\n",
       "      <th>budget_gross_profit</th>\n",
       "      <th>awards</th>\n",
       "      <th>nominations</th>\n",
       "    </tr>\n",
       "  </thead>\n",
       "  <tbody>\n",
       "    <tr>\n",
       "      <td>count</td>\n",
       "      <td>5322.000000</td>\n",
       "      <td>5.322000e+03</td>\n",
       "      <td>5.322000e+03</td>\n",
       "      <td>5.322000e+03</td>\n",
       "      <td>5322.000000</td>\n",
       "      <td>5.322000e+03</td>\n",
       "      <td>5322.000000</td>\n",
       "      <td>5322.000000</td>\n",
       "    </tr>\n",
       "    <tr>\n",
       "      <td>mean</td>\n",
       "      <td>50.520293</td>\n",
       "      <td>3.189081e+07</td>\n",
       "      <td>4.312545e+07</td>\n",
       "      <td>9.243528e+07</td>\n",
       "      <td>2003.536077</td>\n",
       "      <td>6.054447e+07</td>\n",
       "      <td>0.156520</td>\n",
       "      <td>0.377490</td>\n",
       "    </tr>\n",
       "    <tr>\n",
       "      <td>std</td>\n",
       "      <td>28.757318</td>\n",
       "      <td>3.754145e+07</td>\n",
       "      <td>6.383848e+07</td>\n",
       "      <td>1.589142e+08</td>\n",
       "      <td>12.596656</td>\n",
       "      <td>1.348992e+08</td>\n",
       "      <td>0.786875</td>\n",
       "      <td>1.654448</td>\n",
       "    </tr>\n",
       "    <tr>\n",
       "      <td>min</td>\n",
       "      <td>1.000000</td>\n",
       "      <td>1.000000e+05</td>\n",
       "      <td>0.000000e+00</td>\n",
       "      <td>2.600000e+01</td>\n",
       "      <td>1915.000000</td>\n",
       "      <td>-1.104502e+08</td>\n",
       "      <td>0.000000</td>\n",
       "      <td>0.000000</td>\n",
       "    </tr>\n",
       "    <tr>\n",
       "      <td>25%</td>\n",
       "      <td>26.000000</td>\n",
       "      <td>6.500000e+06</td>\n",
       "      <td>3.395438e+06</td>\n",
       "      <td>7.299368e+06</td>\n",
       "      <td>1999.000000</td>\n",
       "      <td>-1.970613e+06</td>\n",
       "      <td>0.000000</td>\n",
       "      <td>0.000000</td>\n",
       "    </tr>\n",
       "    <tr>\n",
       "      <td>50%</td>\n",
       "      <td>51.000000</td>\n",
       "      <td>1.900000e+07</td>\n",
       "      <td>2.038102e+07</td>\n",
       "      <td>3.342265e+07</td>\n",
       "      <td>2006.000000</td>\n",
       "      <td>1.200527e+07</td>\n",
       "      <td>0.000000</td>\n",
       "      <td>0.000000</td>\n",
       "    </tr>\n",
       "    <tr>\n",
       "      <td>75%</td>\n",
       "      <td>75.000000</td>\n",
       "      <td>4.000000e+07</td>\n",
       "      <td>5.503424e+07</td>\n",
       "      <td>1.030047e+08</td>\n",
       "      <td>2012.000000</td>\n",
       "      <td>6.668358e+07</td>\n",
       "      <td>0.000000</td>\n",
       "      <td>0.000000</td>\n",
       "    </tr>\n",
       "    <tr>\n",
       "      <td>max</td>\n",
       "      <td>100.000000</td>\n",
       "      <td>2.000000e+08</td>\n",
       "      <td>7.000596e+08</td>\n",
       "      <td>2.208208e+09</td>\n",
       "      <td>2019.000000</td>\n",
       "      <td>2.008208e+09</td>\n",
       "      <td>11.000000</td>\n",
       "      <td>14.000000</td>\n",
       "    </tr>\n",
       "  </tbody>\n",
       "</table>\n",
       "</div>"
      ],
      "text/plain": [
       "                id  production_budget  domestic_gross  worldwide_gross  \\\n",
       "count  5322.000000       5.322000e+03    5.322000e+03     5.322000e+03   \n",
       "mean     50.520293       3.189081e+07    4.312545e+07     9.243528e+07   \n",
       "std      28.757318       3.754145e+07    6.383848e+07     1.589142e+08   \n",
       "min       1.000000       1.000000e+05    0.000000e+00     2.600000e+01   \n",
       "25%      26.000000       6.500000e+06    3.395438e+06     7.299368e+06   \n",
       "50%      51.000000       1.900000e+07    2.038102e+07     3.342265e+07   \n",
       "75%      75.000000       4.000000e+07    5.503424e+07     1.030047e+08   \n",
       "max     100.000000       2.000000e+08    7.000596e+08     2.208208e+09   \n",
       "\n",
       "              year  budget_gross_profit       awards  nominations  \n",
       "count  5322.000000         5.322000e+03  5322.000000  5322.000000  \n",
       "mean   2003.536077         6.054447e+07     0.156520     0.377490  \n",
       "std      12.596656         1.348992e+08     0.786875     1.654448  \n",
       "min    1915.000000        -1.104502e+08     0.000000     0.000000  \n",
       "25%    1999.000000        -1.970613e+06     0.000000     0.000000  \n",
       "50%    2006.000000         1.200527e+07     0.000000     0.000000  \n",
       "75%    2012.000000         6.668358e+07     0.000000     0.000000  \n",
       "max    2019.000000         2.008208e+09    11.000000    14.000000  "
      ]
     },
     "execution_count": 474,
     "metadata": {},
     "output_type": "execute_result"
    }
   ],
   "source": [
    "awards_to_budget_df.describe()"
   ]
  },
  {
   "cell_type": "code",
   "execution_count": 471,
   "metadata": {
    "ExecuteTime": {
     "end_time": "2020-06-20T01:08:38.428014Z",
     "start_time": "2020-06-20T01:08:38.230133Z"
    },
    "scrolled": false
   },
   "outputs": [
    {
     "data": {
      "image/png": "[encoded data removed]",
      "text/plain": [
       "<Figure size 864x864 with 1 Axes>"
      ]
     },
     "metadata": {},
     "output_type": "display_data"
    }
   ],
   "source": [
    "f, ax = plt.subplots(figsize=(12, 12))\n",
    "\n",
    "sns.boxplot(x=\"nominated\", y=\"production_budget\",\n",
    "            hue=\"nominated\", palette=[\"m\", \"g\"],\n",
    "            data=awards_to_budget_df)\n",
    "\n",
    "sns.despine(offset=10, trim=True)"
   ]
  },
  {
   "cell_type": "markdown",
   "metadata": {
    "ExecuteTime": {
     "end_time": "2020-06-20T03:11:32.259756Z",
     "start_time": "2020-06-20T03:11:32.255883Z"
    }
   },
   "source": [
    "Our last boxplot here shows that, production_budgets were relatively greater for movies which ended up recieving nominations. A logical explanation to this is that it costs more money to hire better acting talent, writers, directors, the rest of the professional film crew, etc, which should result in a better chance at an Academy Award\n"
   ]
  },
  {
   "cell_type": "code",
   "execution_count": null,
   "metadata": {},
   "outputs": [],
   "source": []
  }
 ],
 "metadata": {
  "kernelspec": {
   "display_name": "learn-env",
   "language": "python",
   "name": "learn-env"
  },
  "language_info": {
   "codemirror_mode": {
    "name": "ipython",
    "version": 3
   },
   "file_extension": ".py",
   "mimetype": "text/x-python",
   "name": "python",
   "nbconvert_exporter": "python",
   "pygments_lexer": "ipython3",
   "version": "3.6.9"
  },
  "toc": {
   "base_numbering": 1,
   "nav_menu": {},
   "number_sections": true,
   "sideBar": true,
   "skip_h1_title": false,
   "title_cell": "Table of Contents",
   "title_sidebar": "Contents",
   "toc_cell": false,
   "toc_position": {},
   "toc_section_display": true,
   "toc_window_display": false
  },
  "varInspector": {
   "cols": {
    "lenName": 16,
    "lenType": 16,
    "lenVar": 40
   },
   "kernels_config": {
    "python": {
     "delete_cmd_postfix": "",
     "delete_cmd_prefix": "del ",
     "library": "var_list.py",
     "varRefreshCmd": "print(var_dic_list())"
    },
    "r": {
     "delete_cmd_postfix": ") ",
     "delete_cmd_prefix": "rm(",
     "library": "var_list.r",
     "varRefreshCmd": "cat(var_dic_list()) "
    }
   },
   "types_to_exclude": [
    "module",
    "function",
    "builtin_function_or_method",
    "instance",
    "_Feature"
   ],
   "window_display": false
  }
 },
 "nbformat": 4,
 "nbformat_minor": 2
}
