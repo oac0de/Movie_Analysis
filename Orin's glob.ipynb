{
 "cells": [
  {
   "cell_type": "code",
   "execution_count": 1,
   "metadata": {},
   "outputs": [],
   "source": [
    "import pandas as pd\n",
    "import os"
   ]
  },
  {
   "cell_type": "code",
   "execution_count": 2,
   "metadata": {},
   "outputs": [
    {
     "data": {
      "text/plain": [
       "'/Users/orin/Data Science/MODULE 1/Module-1-Project/Movie_Analysis'"
      ]
     },
     "execution_count": 2,
     "metadata": {},
     "output_type": "execute_result"
    }
   ],
   "source": [
    "pwd"
   ]
  },
  {
   "cell_type": "code",
   "execution_count": 3,
   "metadata": {},
   "outputs": [],
   "source": [
    "from glob import glob"
   ]
  },
  {
   "cell_type": "code",
   "execution_count": 4,
   "metadata": {},
   "outputs": [
    {
     "data": {
      "text/plain": [
       "['./zippedData/imdb.title.crew.csv.gz',\n",
       " './zippedData/tmdb.movies.csv.gz',\n",
       " './zippedData/imdb.title.akas.csv.gz',\n",
       " './zippedData/imdb.title.ratings.csv.gz',\n",
       " './zippedData/imdb.name.basics.csv.gz',\n",
       " './zippedData/imdb.title.basics.csv.gz',\n",
       " './zippedData/tn.movie_budgets.csv.gz',\n",
       " './zippedData/bom.movie_gross.csv.gz',\n",
       " './zippedData/imdb.title.principals.csv.gz']"
      ]
     },
     "execution_count": 4,
     "metadata": {},
     "output_type": "execute_result"
    }
   ],
   "source": [
    "csv_files = glob(\"./zippedData/*.csv.gz\")\n",
    "csv_files"
   ]
  },
  {
   "cell_type": "code",
   "execution_count": 5,
   "metadata": {},
   "outputs": [],
   "source": [
    "type(csv_files)\n",
    "d = {}"
   ]
  },
  {
   "cell_type": "code",
   "execution_count": 6,
   "metadata": {},
   "outputs": [],
   "source": [
    "for file in csv_files:\n",
    "    d[file] = pd.read_csv(file)"
   ]
  },
  {
   "cell_type": "code",
   "execution_count": 7,
   "metadata": {},
   "outputs": [
    {
     "data": {
      "text/plain": [
       "dict_keys(['./zippedData/imdb.title.crew.csv.gz', './zippedData/tmdb.movies.csv.gz', './zippedData/imdb.title.akas.csv.gz', './zippedData/imdb.title.ratings.csv.gz', './zippedData/imdb.name.basics.csv.gz', './zippedData/imdb.title.basics.csv.gz', './zippedData/tn.movie_budgets.csv.gz', './zippedData/bom.movie_gross.csv.gz', './zippedData/imdb.title.principals.csv.gz'])"
      ]
     },
     "execution_count": 7,
     "metadata": {},
     "output_type": "execute_result"
    }
   ],
   "source": [
    "d.keys()"
   ]
  },
  {
   "cell_type": "code",
   "execution_count": 8,
   "metadata": {},
   "outputs": [],
   "source": [
    "csv_files_dict = {}\n",
    "for filename in csv_files:\n",
    "    filename_cleaned = os.path.basename(filename).replace(\".csv\", \"\").replace(\".\", \"_\").replace('_gz','') # cleaning the filenames\n",
    "    filename_df = pd.read_csv(filename, index_col=0)\n",
    "    csv_files_dict[filename_cleaned] = filename_df"
   ]
  },
  {
   "cell_type": "code",
   "execution_count": 9,
   "metadata": {},
   "outputs": [
    {
     "data": {
      "text/plain": [
       "dict_keys(['imdb_title_crew', 'tmdb_movies', 'imdb_title_akas', 'imdb_title_ratings', 'imdb_name_basics', 'imdb_title_basics', 'tn_movie_budgets', 'bom_movie_gross', 'imdb_title_principals'])"
      ]
     },
     "execution_count": 9,
     "metadata": {},
     "output_type": "execute_result"
    }
   ],
   "source": [
    "csv_files_dict.keys()"
   ]
  },
  {
   "cell_type": "code",
   "execution_count": 643,
   "metadata": {
    "ExecuteTime": {
     "end_time": "2020-06-18T21:40:03.696386Z",
     "start_time": "2020-06-18T21:40:03.686801Z"
    },
    "scrolled": true
   },
   "outputs": [
    {
     "data": {
      "text/html": [
       "<div>\n",
       "<style scoped>\n",
       "    .dataframe tbody tr th:only-of-type {\n",
       "        vertical-align: middle;\n",
       "    }\n",
       "\n",
       "    .dataframe tbody tr th {\n",
       "        vertical-align: top;\n",
       "    }\n",
       "\n",
       "    .dataframe thead th {\n",
       "        text-align: right;\n",
       "    }\n",
       "</style>\n",
       "<table border=\"1\" class=\"dataframe\">\n",
       "  <thead>\n",
       "    <tr style=\"text-align: right;\">\n",
       "      <th></th>\n",
       "      <th>directors</th>\n",
       "      <th>writers</th>\n",
       "    </tr>\n",
       "    <tr>\n",
       "      <th>tconst</th>\n",
       "      <th></th>\n",
       "      <th></th>\n",
       "    </tr>\n",
       "  </thead>\n",
       "  <tbody>\n",
       "    <tr>\n",
       "      <td>tt0285252</td>\n",
       "      <td>nm0899854</td>\n",
       "      <td>nm0899854</td>\n",
       "    </tr>\n",
       "    <tr>\n",
       "      <td>tt0438973</td>\n",
       "      <td>NaN</td>\n",
       "      <td>nm0175726,nm1802864</td>\n",
       "    </tr>\n",
       "    <tr>\n",
       "      <td>tt0462036</td>\n",
       "      <td>nm1940585</td>\n",
       "      <td>nm1940585</td>\n",
       "    </tr>\n",
       "    <tr>\n",
       "      <td>tt0835418</td>\n",
       "      <td>nm0151540</td>\n",
       "      <td>nm0310087,nm0841532</td>\n",
       "    </tr>\n",
       "    <tr>\n",
       "      <td>tt0878654</td>\n",
       "      <td>nm0089502,nm2291498,nm2292011</td>\n",
       "      <td>nm0284943</td>\n",
       "    </tr>\n",
       "    <tr>\n",
       "      <td>...</td>\n",
       "      <td>...</td>\n",
       "      <td>...</td>\n",
       "    </tr>\n",
       "    <tr>\n",
       "      <td>tt8999974</td>\n",
       "      <td>nm10122357</td>\n",
       "      <td>nm10122357</td>\n",
       "    </tr>\n",
       "    <tr>\n",
       "      <td>tt9001390</td>\n",
       "      <td>nm6711477</td>\n",
       "      <td>nm6711477</td>\n",
       "    </tr>\n",
       "    <tr>\n",
       "      <td>tt9001494</td>\n",
       "      <td>nm10123242,nm10123248</td>\n",
       "      <td>NaN</td>\n",
       "    </tr>\n",
       "    <tr>\n",
       "      <td>tt9004986</td>\n",
       "      <td>nm4993825</td>\n",
       "      <td>nm4993825</td>\n",
       "    </tr>\n",
       "    <tr>\n",
       "      <td>tt9010172</td>\n",
       "      <td>NaN</td>\n",
       "      <td>nm8352242</td>\n",
       "    </tr>\n",
       "  </tbody>\n",
       "</table>\n",
       "<p>146144 rows × 2 columns</p>\n",
       "</div>"
      ],
      "text/plain": [
       "                               directors              writers\n",
       "tconst                                                       \n",
       "tt0285252                      nm0899854            nm0899854\n",
       "tt0438973                            NaN  nm0175726,nm1802864\n",
       "tt0462036                      nm1940585            nm1940585\n",
       "tt0835418                      nm0151540  nm0310087,nm0841532\n",
       "tt0878654  nm0089502,nm2291498,nm2292011            nm0284943\n",
       "...                                  ...                  ...\n",
       "tt8999974                     nm10122357           nm10122357\n",
       "tt9001390                      nm6711477            nm6711477\n",
       "tt9001494          nm10123242,nm10123248                  NaN\n",
       "tt9004986                      nm4993825            nm4993825\n",
       "tt9010172                            NaN            nm8352242\n",
       "\n",
       "[146144 rows x 2 columns]"
      ]
     },
     "execution_count": 643,
     "metadata": {},
     "output_type": "execute_result"
    }
   ],
   "source": [
    "csv_files_dict['imdb_title_crew']"
   ]
  },
  {
   "cell_type": "code",
   "execution_count": 11,
   "metadata": {},
   "outputs": [],
   "source": [
    "import sqlite3"
   ]
  },
  {
   "cell_type": "code",
   "execution_count": 20,
   "metadata": {},
   "outputs": [],
   "source": [
    "conn = sqlite3.connect(\"movies_db.sqlite\") \n",
    "cur = conn.cursor()"
   ]
  },
  {
   "cell_type": "code",
   "execution_count": 16,
   "metadata": {},
   "outputs": [],
   "source": [
    "def create_sql_table_from_df(df, name, conn):\n",
    "    try:\n",
    "        df.to_sql(name, conn)\n",
    "        print(f\"Created table {name}\")\n",
    "    \n",
    "    except Exception as e:\n",
    "        print(f\"could not make table {name}\")\n",
    "        print(e)"
   ]
  },
  {
   "cell_type": "code",
   "execution_count": 17,
   "metadata": {},
   "outputs": [
    {
     "name": "stdout",
     "output_type": "stream",
     "text": [
      "could not make table imdb_title_crew\n",
      "Table 'imdb_title_crew' already exists.\n",
      "could not make table tmdb_movies\n",
      "Table 'tmdb_movies' already exists.\n",
      "could not make table imdb_title_akas\n",
      "Table 'imdb_title_akas' already exists.\n",
      "could not make table imdb_title_ratings\n",
      "Table 'imdb_title_ratings' already exists.\n",
      "could not make table imdb_name_basics\n",
      "Table 'imdb_name_basics' already exists.\n",
      "could not make table imdb_title_basics\n",
      "Table 'imdb_title_basics' already exists.\n",
      "could not make table tn_movie_budgets\n",
      "Table 'tn_movie_budgets' already exists.\n",
      "could not make table bom_movie_gross\n",
      "Table 'bom_movie_gross' already exists.\n",
      "could not make table imdb_title_principals\n",
      "Table 'imdb_title_principals' already exists.\n"
     ]
    }
   ],
   "source": [
    "for name, table in csv_files_dict.items():\n",
    "    create_sql_table_from_df(table, name, conn)"
   ]
  },
  {
   "cell_type": "code",
   "execution_count": 261,
   "metadata": {
    "ExecuteTime": {
     "end_time": "2020-06-17T02:38:25.152689Z",
     "start_time": "2020-06-17T02:38:25.147646Z"
    },
    "scrolled": false
   },
   "outputs": [
    {
     "data": {
      "text/plain": [
       "[('imdb_title_crew',),\n",
       " ('tmdb_movies',),\n",
       " ('imdb_title_akas',),\n",
       " ('imdb_title_ratings',),\n",
       " ('imdb_name_basics',),\n",
       " ('imdb_title_basics',),\n",
       " ('tn_movie_budgets',),\n",
       " ('bom_movie_gross',),\n",
       " ('imdb_title_principals',),\n",
       " ('films_by_awards.csv',),\n",
       " ('films_by_awards',),\n",
       " ('films_by_awards1',),\n",
       " ('films_by_awards2',)]"
      ]
     },
     "execution_count": 261,
     "metadata": {},
     "output_type": "execute_result"
    }
   ],
   "source": [
    "cur.execute(\"select name from sqlite_master where type='table';\").fetchall()"
   ]
  },
  {
   "cell_type": "markdown",
   "metadata": {},
   "source": [
    "Cleaning tn_movie_budgets to have just year for release date"
   ]
  },
  {
   "cell_type": "code",
   "execution_count": 401,
   "metadata": {
    "ExecuteTime": {
     "end_time": "2020-06-17T13:38:43.462629Z",
     "start_time": "2020-06-17T13:38:43.458721Z"
    }
   },
   "outputs": [],
   "source": [
    "tn_movie_budgets_df = csv_files_dict['tn_movie_budgets']"
   ]
  },
  {
   "cell_type": "code",
   "execution_count": 404,
   "metadata": {
    "ExecuteTime": {
     "end_time": "2020-06-17T13:39:30.560088Z",
     "start_time": "2020-06-17T13:39:30.551109Z"
    }
   },
   "outputs": [
    {
     "data": {
      "text/plain": [
       "(5782, 5)"
      ]
     },
     "execution_count": 404,
     "metadata": {},
     "output_type": "execute_result"
    }
   ],
   "source": [
    "tn_movie_budgets_df.shape"
   ]
  },
  {
   "cell_type": "code",
   "execution_count": 407,
   "metadata": {
    "ExecuteTime": {
     "end_time": "2020-06-17T13:40:11.852868Z",
     "start_time": "2020-06-17T13:40:11.818746Z"
    },
    "scrolled": true
   },
   "outputs": [
    {
     "name": "stdout",
     "output_type": "stream",
     "text": [
      "<class 'pandas.core.frame.DataFrame'>\n",
      "Int64Index: 5782 entries, 1 to 82\n",
      "Data columns (total 5 columns):\n",
      "release_date         5782 non-null object\n",
      "movie                5782 non-null object\n",
      "production_budget    5782 non-null object\n",
      "domestic_gross       5782 non-null object\n",
      "worldwide_gross      5782 non-null object\n",
      "dtypes: object(5)\n",
      "memory usage: 271.0+ KB\n"
     ]
    }
   ],
   "source": [
    "tn_movie_budgets_df.info()"
   ]
  },
  {
   "cell_type": "code",
   "execution_count": 408,
   "metadata": {
    "ExecuteTime": {
     "end_time": "2020-06-17T13:40:32.364375Z",
     "start_time": "2020-06-17T13:40:32.354688Z"
    },
    "scrolled": true
   },
   "outputs": [
    {
     "data": {
      "text/plain": [
       "release_date         0\n",
       "movie                0\n",
       "production_budget    0\n",
       "domestic_gross       0\n",
       "worldwide_gross      0\n",
       "dtype: int64"
      ]
     },
     "execution_count": 408,
     "metadata": {},
     "output_type": "execute_result"
    }
   ],
   "source": [
    "tn_movie_budgets_df.isna().sum()"
   ]
  },
  {
   "cell_type": "code",
   "execution_count": 409,
   "metadata": {
    "ExecuteTime": {
     "end_time": "2020-06-17T13:44:49.748701Z",
     "start_time": "2020-06-17T13:44:49.201703Z"
    }
   },
   "outputs": [],
   "source": [
    "tn_movie_budgets_df['year'] =  pd.DatetimeIndex(tn_movie_budgets_df['release_date']).year"
   ]
  },
  {
   "cell_type": "code",
   "execution_count": 670,
   "metadata": {
    "ExecuteTime": {
     "end_time": "2020-06-18T22:23:33.105099Z",
     "start_time": "2020-06-18T22:23:33.091919Z"
    },
    "scrolled": true
   },
   "outputs": [
    {
     "data": {
      "text/html": [
       "<div>\n",
       "<style scoped>\n",
       "    .dataframe tbody tr th:only-of-type {\n",
       "        vertical-align: middle;\n",
       "    }\n",
       "\n",
       "    .dataframe tbody tr th {\n",
       "        vertical-align: top;\n",
       "    }\n",
       "\n",
       "    .dataframe thead th {\n",
       "        text-align: right;\n",
       "    }\n",
       "</style>\n",
       "<table border=\"1\" class=\"dataframe\">\n",
       "  <thead>\n",
       "    <tr style=\"text-align: right;\">\n",
       "      <th></th>\n",
       "      <th>release_date</th>\n",
       "      <th>movie</th>\n",
       "      <th>production_budget</th>\n",
       "      <th>domestic_gross</th>\n",
       "      <th>worldwide_gross</th>\n",
       "      <th>year</th>\n",
       "      <th>budget_gross_profit</th>\n",
       "    </tr>\n",
       "    <tr>\n",
       "      <th>id</th>\n",
       "      <th></th>\n",
       "      <th></th>\n",
       "      <th></th>\n",
       "      <th></th>\n",
       "      <th></th>\n",
       "      <th></th>\n",
       "      <th></th>\n",
       "    </tr>\n",
       "  </thead>\n",
       "  <tbody>\n",
       "    <tr>\n",
       "      <td>1</td>\n",
       "      <td>Dec 18, 2009</td>\n",
       "      <td>Avatar</td>\n",
       "      <td>425000000</td>\n",
       "      <td>760507625</td>\n",
       "      <td>2776345279</td>\n",
       "      <td>2009</td>\n",
       "      <td>2351345279</td>\n",
       "    </tr>\n",
       "    <tr>\n",
       "      <td>2</td>\n",
       "      <td>May 20, 2011</td>\n",
       "      <td>Pirates of the Caribbean: On Stranger Tides</td>\n",
       "      <td>410600000</td>\n",
       "      <td>241063875</td>\n",
       "      <td>1045663875</td>\n",
       "      <td>2011</td>\n",
       "      <td>635063875</td>\n",
       "    </tr>\n",
       "    <tr>\n",
       "      <td>3</td>\n",
       "      <td>Jun 7, 2019</td>\n",
       "      <td>Dark Phoenix</td>\n",
       "      <td>350000000</td>\n",
       "      <td>42762350</td>\n",
       "      <td>149762350</td>\n",
       "      <td>2019</td>\n",
       "      <td>-200237650</td>\n",
       "    </tr>\n",
       "    <tr>\n",
       "      <td>4</td>\n",
       "      <td>May 1, 2015</td>\n",
       "      <td>Avengers: Age of Ultron</td>\n",
       "      <td>330600000</td>\n",
       "      <td>459005868</td>\n",
       "      <td>1403013963</td>\n",
       "      <td>2015</td>\n",
       "      <td>1072413963</td>\n",
       "    </tr>\n",
       "    <tr>\n",
       "      <td>5</td>\n",
       "      <td>Dec 15, 2017</td>\n",
       "      <td>Star Wars Ep. VIII: The Last Jedi</td>\n",
       "      <td>317000000</td>\n",
       "      <td>620181382</td>\n",
       "      <td>1316721747</td>\n",
       "      <td>2017</td>\n",
       "      <td>999721747</td>\n",
       "    </tr>\n",
       "    <tr>\n",
       "      <td>...</td>\n",
       "      <td>...</td>\n",
       "      <td>...</td>\n",
       "      <td>...</td>\n",
       "      <td>...</td>\n",
       "      <td>...</td>\n",
       "      <td>...</td>\n",
       "      <td>...</td>\n",
       "    </tr>\n",
       "    <tr>\n",
       "      <td>78</td>\n",
       "      <td>Dec 31, 2018</td>\n",
       "      <td>Red 11</td>\n",
       "      <td>7000</td>\n",
       "      <td>0</td>\n",
       "      <td>0</td>\n",
       "      <td>2018</td>\n",
       "      <td>-7000</td>\n",
       "    </tr>\n",
       "    <tr>\n",
       "      <td>79</td>\n",
       "      <td>Apr 2, 1999</td>\n",
       "      <td>Following</td>\n",
       "      <td>6000</td>\n",
       "      <td>48482</td>\n",
       "      <td>240495</td>\n",
       "      <td>1999</td>\n",
       "      <td>234495</td>\n",
       "    </tr>\n",
       "    <tr>\n",
       "      <td>80</td>\n",
       "      <td>Jul 13, 2005</td>\n",
       "      <td>Return to the Land of Wonders</td>\n",
       "      <td>5000</td>\n",
       "      <td>1338</td>\n",
       "      <td>1338</td>\n",
       "      <td>2005</td>\n",
       "      <td>-3662</td>\n",
       "    </tr>\n",
       "    <tr>\n",
       "      <td>81</td>\n",
       "      <td>Sep 29, 2015</td>\n",
       "      <td>A Plague So Pleasant</td>\n",
       "      <td>1400</td>\n",
       "      <td>0</td>\n",
       "      <td>0</td>\n",
       "      <td>2015</td>\n",
       "      <td>-1400</td>\n",
       "    </tr>\n",
       "    <tr>\n",
       "      <td>82</td>\n",
       "      <td>Aug 5, 2005</td>\n",
       "      <td>My Date With Drew</td>\n",
       "      <td>1100</td>\n",
       "      <td>181041</td>\n",
       "      <td>181041</td>\n",
       "      <td>2005</td>\n",
       "      <td>179941</td>\n",
       "    </tr>\n",
       "  </tbody>\n",
       "</table>\n",
       "<p>5782 rows × 7 columns</p>\n",
       "</div>"
      ],
      "text/plain": [
       "    release_date                                        movie  \\\n",
       "id                                                              \n",
       "1   Dec 18, 2009                                       Avatar   \n",
       "2   May 20, 2011  Pirates of the Caribbean: On Stranger Tides   \n",
       "3    Jun 7, 2019                                 Dark Phoenix   \n",
       "4    May 1, 2015                      Avengers: Age of Ultron   \n",
       "5   Dec 15, 2017            Star Wars Ep. VIII: The Last Jedi   \n",
       "..           ...                                          ...   \n",
       "78  Dec 31, 2018                                       Red 11   \n",
       "79   Apr 2, 1999                                    Following   \n",
       "80  Jul 13, 2005                Return to the Land of Wonders   \n",
       "81  Sep 29, 2015                         A Plague So Pleasant   \n",
       "82   Aug 5, 2005                            My Date With Drew   \n",
       "\n",
       "    production_budget  domestic_gross  worldwide_gross  year  \\\n",
       "id                                                             \n",
       "1           425000000       760507625       2776345279  2009   \n",
       "2           410600000       241063875       1045663875  2011   \n",
       "3           350000000        42762350        149762350  2019   \n",
       "4           330600000       459005868       1403013963  2015   \n",
       "5           317000000       620181382       1316721747  2017   \n",
       "..                ...             ...              ...   ...   \n",
       "78               7000               0                0  2018   \n",
       "79               6000           48482           240495  1999   \n",
       "80               5000            1338             1338  2005   \n",
       "81               1400               0                0  2015   \n",
       "82               1100          181041           181041  2005   \n",
       "\n",
       "    budget_gross_profit  \n",
       "id                       \n",
       "1            2351345279  \n",
       "2             635063875  \n",
       "3            -200237650  \n",
       "4            1072413963  \n",
       "5             999721747  \n",
       "..                  ...  \n",
       "78                -7000  \n",
       "79               234495  \n",
       "80                -3662  \n",
       "81                -1400  \n",
       "82               179941  \n",
       "\n",
       "[5782 rows x 7 columns]"
      ]
     },
     "execution_count": 670,
     "metadata": {},
     "output_type": "execute_result"
    }
   ],
   "source": [
    "tn_movie_budgets_df \n"
   ]
  },
  {
   "cell_type": "code",
   "execution_count": 414,
   "metadata": {
    "ExecuteTime": {
     "end_time": "2020-06-17T13:50:19.796715Z",
     "start_time": "2020-06-17T13:50:19.793485Z"
    },
    "scrolled": true
   },
   "outputs": [],
   "source": [
    "def convert_amt_to_int(df, col):\n",
    "    df[col] = df[col].str.replace(\"$\", \"\").str.replace(\",\", \"\").astype('int')\n",
    "    return df"
   ]
  },
  {
   "cell_type": "code",
   "execution_count": 415,
   "metadata": {
    "ExecuteTime": {
     "end_time": "2020-06-17T13:50:20.918329Z",
     "start_time": "2020-06-17T13:50:20.889896Z"
    }
   },
   "outputs": [],
   "source": [
    "money_cols = ['production_budget', 'domestic_gross', 'worldwide_gross']\n",
    "\n",
    "for col in money_cols:\n",
    "    tn_movie_budgets_df = convert_amt_to_int(tn_movie_budgets_df, col)"
   ]
  },
  {
   "cell_type": "code",
   "execution_count": 417,
   "metadata": {
    "ExecuteTime": {
     "end_time": "2020-06-17T13:50:36.678040Z",
     "start_time": "2020-06-17T13:50:36.670025Z"
    }
   },
   "outputs": [
    {
     "name": "stdout",
     "output_type": "stream",
     "text": [
      "<class 'pandas.core.frame.DataFrame'>\n",
      "Int64Index: 5782 entries, 1 to 82\n",
      "Data columns (total 6 columns):\n",
      "release_date         5782 non-null object\n",
      "movie                5782 non-null object\n",
      "production_budget    5782 non-null int64\n",
      "domestic_gross       5782 non-null int64\n",
      "worldwide_gross      5782 non-null int64\n",
      "year                 5782 non-null int64\n",
      "dtypes: int64(4), object(2)\n",
      "memory usage: 316.2+ KB\n"
     ]
    }
   ],
   "source": [
    "tn_movie_budgets_df.info()"
   ]
  },
  {
   "cell_type": "markdown",
   "metadata": {},
   "source": [
    "Checking values to make sure they are clean"
   ]
  },
  {
   "cell_type": "code",
   "execution_count": 419,
   "metadata": {
    "ExecuteTime": {
     "end_time": "2020-06-17T13:51:27.624922Z",
     "start_time": "2020-06-17T13:51:27.582507Z"
    },
    "scrolled": true
   },
   "outputs": [
    {
     "name": "stdout",
     "output_type": "stream",
     "text": [
      "Viewing values in col: release_date\n",
      "Top 5 values:\n",
      "Dec 31, 2014    0.004151\n",
      "Dec 31, 2015    0.003978\n",
      "Dec 31, 2010    0.002594\n",
      "Dec 31, 2008    0.002421\n",
      "Dec 31, 2012    0.002248\n",
      "Name: release_date, dtype: float64\n",
      "-------------------\n",
      "Viewing values in col: movie\n",
      "Top 5 values:\n",
      "Home                  0.000519\n",
      "King Kong             0.000519\n",
      "Halloween             0.000519\n",
      "Fantastic Four        0.000346\n",
      "Death at a Funeral    0.000346\n",
      "Name: movie, dtype: float64\n",
      "-------------------\n",
      "Viewing values in col: production_budget\n",
      "Top 5 values:\n",
      "20000000    0.039952\n",
      "10000000    0.036666\n",
      "30000000    0.030612\n",
      "15000000    0.029920\n",
      "25000000    0.029575\n",
      "Name: production_budget, dtype: float64\n",
      "-------------------\n",
      "Viewing values in col: domestic_gross\n",
      "Top 5 values:\n",
      "0           0.094777\n",
      "8000000     0.001557\n",
      "2000000     0.001211\n",
      "7000000     0.001211\n",
      "10000000    0.001038\n",
      "Name: domestic_gross, dtype: float64\n",
      "-------------------\n",
      "Viewing values in col: worldwide_gross\n",
      "Top 5 values:\n",
      "0          0.063473\n",
      "8000000    0.001557\n",
      "7000000    0.001038\n",
      "2000000    0.001038\n",
      "4000000    0.000692\n",
      "Name: worldwide_gross, dtype: float64\n",
      "-------------------\n",
      "Viewing values in col: year\n",
      "Top 5 values:\n",
      "2015    0.058457\n",
      "2010    0.047388\n",
      "2008    0.045659\n",
      "2006    0.044967\n",
      "2014    0.044102\n",
      "Name: year, dtype: float64\n",
      "-------------------\n"
     ]
    }
   ],
   "source": [
    "for col in tn_movie_budgets_df:\n",
    "    print(f'Viewing values in col: {col}')\n",
    "    print(f'Top 5 values:\\n{tn_movie_budgets_df[col].value_counts(normalize = True)[:5]}')\n",
    "    print(\"-------------------\")"
   ]
  },
  {
   "cell_type": "code",
   "execution_count": 462,
   "metadata": {
    "ExecuteTime": {
     "end_time": "2020-06-17T20:50:59.938928Z",
     "start_time": "2020-06-17T20:50:59.927639Z"
    },
    "scrolled": true
   },
   "outputs": [
    {
     "data": {
      "text/html": [
       "<div>\n",
       "<style scoped>\n",
       "    .dataframe tbody tr th:only-of-type {\n",
       "        vertical-align: middle;\n",
       "    }\n",
       "\n",
       "    .dataframe tbody tr th {\n",
       "        vertical-align: top;\n",
       "    }\n",
       "\n",
       "    .dataframe thead th {\n",
       "        text-align: right;\n",
       "    }\n",
       "</style>\n",
       "<table border=\"1\" class=\"dataframe\">\n",
       "  <thead>\n",
       "    <tr style=\"text-align: right;\">\n",
       "      <th></th>\n",
       "      <th>release_date</th>\n",
       "      <th>movie</th>\n",
       "      <th>production_budget</th>\n",
       "      <th>domestic_gross</th>\n",
       "      <th>worldwide_gross</th>\n",
       "      <th>year</th>\n",
       "      <th>budget_gross_profit</th>\n",
       "    </tr>\n",
       "    <tr>\n",
       "      <th>id</th>\n",
       "      <th></th>\n",
       "      <th></th>\n",
       "      <th></th>\n",
       "      <th></th>\n",
       "      <th></th>\n",
       "      <th></th>\n",
       "      <th></th>\n",
       "    </tr>\n",
       "  </thead>\n",
       "  <tbody>\n",
       "    <tr>\n",
       "      <td>1</td>\n",
       "      <td>Dec 18, 2009</td>\n",
       "      <td>Avatar</td>\n",
       "      <td>425000000</td>\n",
       "      <td>760507625</td>\n",
       "      <td>2776345279</td>\n",
       "      <td>2009</td>\n",
       "      <td>2351345279</td>\n",
       "    </tr>\n",
       "    <tr>\n",
       "      <td>2</td>\n",
       "      <td>May 20, 2011</td>\n",
       "      <td>Pirates of the Caribbean: On Stranger Tides</td>\n",
       "      <td>410600000</td>\n",
       "      <td>241063875</td>\n",
       "      <td>1045663875</td>\n",
       "      <td>2011</td>\n",
       "      <td>635063875</td>\n",
       "    </tr>\n",
       "    <tr>\n",
       "      <td>3</td>\n",
       "      <td>Jun 7, 2019</td>\n",
       "      <td>Dark Phoenix</td>\n",
       "      <td>350000000</td>\n",
       "      <td>42762350</td>\n",
       "      <td>149762350</td>\n",
       "      <td>2019</td>\n",
       "      <td>-200237650</td>\n",
       "    </tr>\n",
       "    <tr>\n",
       "      <td>4</td>\n",
       "      <td>May 1, 2015</td>\n",
       "      <td>Avengers: Age of Ultron</td>\n",
       "      <td>330600000</td>\n",
       "      <td>459005868</td>\n",
       "      <td>1403013963</td>\n",
       "      <td>2015</td>\n",
       "      <td>1072413963</td>\n",
       "    </tr>\n",
       "    <tr>\n",
       "      <td>5</td>\n",
       "      <td>Dec 15, 2017</td>\n",
       "      <td>Star Wars Ep. VIII: The Last Jedi</td>\n",
       "      <td>317000000</td>\n",
       "      <td>620181382</td>\n",
       "      <td>1316721747</td>\n",
       "      <td>2017</td>\n",
       "      <td>999721747</td>\n",
       "    </tr>\n",
       "  </tbody>\n",
       "</table>\n",
       "</div>"
      ],
      "text/plain": [
       "    release_date                                        movie  \\\n",
       "id                                                              \n",
       "1   Dec 18, 2009                                       Avatar   \n",
       "2   May 20, 2011  Pirates of the Caribbean: On Stranger Tides   \n",
       "3    Jun 7, 2019                                 Dark Phoenix   \n",
       "4    May 1, 2015                      Avengers: Age of Ultron   \n",
       "5   Dec 15, 2017            Star Wars Ep. VIII: The Last Jedi   \n",
       "\n",
       "    production_budget  domestic_gross  worldwide_gross  year  \\\n",
       "id                                                             \n",
       "1           425000000       760507625       2776345279  2009   \n",
       "2           410600000       241063875       1045663875  2011   \n",
       "3           350000000        42762350        149762350  2019   \n",
       "4           330600000       459005868       1403013963  2015   \n",
       "5           317000000       620181382       1316721747  2017   \n",
       "\n",
       "    budget_gross_profit  \n",
       "id                       \n",
       "1            2351345279  \n",
       "2             635063875  \n",
       "3            -200237650  \n",
       "4            1072413963  \n",
       "5             999721747  "
      ]
     },
     "execution_count": 462,
     "metadata": {},
     "output_type": "execute_result"
    }
   ],
   "source": [
    "tn_movie_budgets_df['budget_gross_profit'] = tn_movie_budgets_df['worldwide_gross'] - tn_movie_budgets_df['production_budget']\n",
    "tn_movie_budgets_df.head()"
   ]
  },
  {
   "cell_type": "code",
   "execution_count": 422,
   "metadata": {
    "ExecuteTime": {
     "end_time": "2020-06-17T13:56:49.420596Z",
     "start_time": "2020-06-17T13:56:49.366240Z"
    }
   },
   "outputs": [
    {
     "name": "stdout",
     "output_type": "stream",
     "text": [
      "Created table tn_movie_budgets_clean\n"
     ]
    }
   ],
   "source": [
    "create_sql_table_from_df(tn_movie_budgets_df, 'tn_movie_budgets_clean', conn)"
   ]
  },
  {
   "cell_type": "markdown",
   "metadata": {},
   "source": [
    "Importing dataframe of our scraped Academy-Award winning films, cleaning the column names"
   ]
  },
  {
   "cell_type": "code",
   "execution_count": null,
   "metadata": {
    "ExecuteTime": {
     "end_time": "2020-06-16T21:35:27.001083Z",
     "start_time": "2020-06-16T21:35:26.975363Z"
    }
   },
   "outputs": [],
   "source": [
    "df2 = pd.read_csv('films_by_awards.csv')\n",
    "df2.rename(columns = {\"Film\\n\": \"film\", \"Awards\\n\": \"awards\", \"Nominations\\n\": \"nominations\", \"Year\\n\": \"year\"}, inplace=True)\n",
    "df2\n",
    "create_sql_table_from_df(df2, 'films_by_awards2', conn)"
   ]
  },
  {
   "cell_type": "markdown",
   "metadata": {},
   "source": [
    "Joining academy awards winner data to table of gross and profit data"
   ]
  },
  {
   "cell_type": "code",
   "execution_count": 1017,
   "metadata": {
    "ExecuteTime": {
     "end_time": "2020-06-19T03:20:22.764175Z",
     "start_time": "2020-06-19T03:20:22.714243Z"
    },
    "scrolled": true
   },
   "outputs": [
    {
     "data": {
      "text/html": [
       "<div>\n",
       "<style scoped>\n",
       "    .dataframe tbody tr th:only-of-type {\n",
       "        vertical-align: middle;\n",
       "    }\n",
       "\n",
       "    .dataframe tbody tr th {\n",
       "        vertical-align: top;\n",
       "    }\n",
       "\n",
       "    .dataframe thead th {\n",
       "        text-align: right;\n",
       "    }\n",
       "</style>\n",
       "<table border=\"1\" class=\"dataframe\">\n",
       "  <thead>\n",
       "    <tr style=\"text-align: right;\">\n",
       "      <th></th>\n",
       "      <th>id</th>\n",
       "      <th>release_date</th>\n",
       "      <th>movie</th>\n",
       "      <th>production_budget</th>\n",
       "      <th>domestic_gross</th>\n",
       "      <th>worldwide_gross</th>\n",
       "      <th>year</th>\n",
       "      <th>budget_gross_profit</th>\n",
       "      <th>awards</th>\n",
       "      <th>nominations</th>\n",
       "    </tr>\n",
       "  </thead>\n",
       "  <tbody>\n",
       "    <tr>\n",
       "      <td>0</td>\n",
       "      <td>1</td>\n",
       "      <td>Dec 18, 2009</td>\n",
       "      <td>Avatar</td>\n",
       "      <td>425000000</td>\n",
       "      <td>760507625</td>\n",
       "      <td>2776345279</td>\n",
       "      <td>2009</td>\n",
       "      <td>2351345279</td>\n",
       "      <td>3</td>\n",
       "      <td>9</td>\n",
       "    </tr>\n",
       "    <tr>\n",
       "      <td>1</td>\n",
       "      <td>43</td>\n",
       "      <td>Dec 19, 1997</td>\n",
       "      <td>Titanic</td>\n",
       "      <td>200000000</td>\n",
       "      <td>659363944</td>\n",
       "      <td>2208208395</td>\n",
       "      <td>1997</td>\n",
       "      <td>2008208395</td>\n",
       "      <td>11</td>\n",
       "      <td>14</td>\n",
       "    </tr>\n",
       "    <tr>\n",
       "      <td>2</td>\n",
       "      <td>7</td>\n",
       "      <td>Apr 27, 2018</td>\n",
       "      <td>Avengers: Infinity War</td>\n",
       "      <td>300000000</td>\n",
       "      <td>678815482</td>\n",
       "      <td>2048134200</td>\n",
       "      <td>2018</td>\n",
       "      <td>1748134200</td>\n",
       "      <td>None</td>\n",
       "      <td>None</td>\n",
       "    </tr>\n",
       "    <tr>\n",
       "      <td>3</td>\n",
       "      <td>6</td>\n",
       "      <td>Dec 18, 2015</td>\n",
       "      <td>Star Wars Ep. VII: The Force Awakens</td>\n",
       "      <td>306000000</td>\n",
       "      <td>936662225</td>\n",
       "      <td>2053311220</td>\n",
       "      <td>2015</td>\n",
       "      <td>1747311220</td>\n",
       "      <td>None</td>\n",
       "      <td>None</td>\n",
       "    </tr>\n",
       "    <tr>\n",
       "      <td>4</td>\n",
       "      <td>34</td>\n",
       "      <td>Jun 12, 2015</td>\n",
       "      <td>Jurassic World</td>\n",
       "      <td>215000000</td>\n",
       "      <td>652270625</td>\n",
       "      <td>1648854864</td>\n",
       "      <td>2015</td>\n",
       "      <td>1433854864</td>\n",
       "      <td>None</td>\n",
       "      <td>None</td>\n",
       "    </tr>\n",
       "    <tr>\n",
       "      <td>...</td>\n",
       "      <td>...</td>\n",
       "      <td>...</td>\n",
       "      <td>...</td>\n",
       "      <td>...</td>\n",
       "      <td>...</td>\n",
       "      <td>...</td>\n",
       "      <td>...</td>\n",
       "      <td>...</td>\n",
       "      <td>...</td>\n",
       "      <td>...</td>\n",
       "    </tr>\n",
       "    <tr>\n",
       "      <td>5777</td>\n",
       "      <td>53</td>\n",
       "      <td>Apr 27, 2001</td>\n",
       "      <td>Town &amp; Country</td>\n",
       "      <td>105000000</td>\n",
       "      <td>6712451</td>\n",
       "      <td>10364769</td>\n",
       "      <td>2001</td>\n",
       "      <td>-94635231</td>\n",
       "      <td>None</td>\n",
       "      <td>None</td>\n",
       "    </tr>\n",
       "    <tr>\n",
       "      <td>5778</td>\n",
       "      <td>42</td>\n",
       "      <td>Jun 14, 2019</td>\n",
       "      <td>Men in Black: International</td>\n",
       "      <td>110000000</td>\n",
       "      <td>3100000</td>\n",
       "      <td>3100000</td>\n",
       "      <td>2019</td>\n",
       "      <td>-106900000</td>\n",
       "      <td>None</td>\n",
       "      <td>None</td>\n",
       "    </tr>\n",
       "    <tr>\n",
       "      <td>5779</td>\n",
       "      <td>94</td>\n",
       "      <td>Mar 11, 2011</td>\n",
       "      <td>Mars Needs Moms</td>\n",
       "      <td>150000000</td>\n",
       "      <td>21392758</td>\n",
       "      <td>39549758</td>\n",
       "      <td>2011</td>\n",
       "      <td>-110450242</td>\n",
       "      <td>None</td>\n",
       "      <td>None</td>\n",
       "    </tr>\n",
       "    <tr>\n",
       "      <td>5780</td>\n",
       "      <td>95</td>\n",
       "      <td>Dec 31, 2020</td>\n",
       "      <td>Moonfall</td>\n",
       "      <td>150000000</td>\n",
       "      <td>0</td>\n",
       "      <td>0</td>\n",
       "      <td>2020</td>\n",
       "      <td>-150000000</td>\n",
       "      <td>None</td>\n",
       "      <td>None</td>\n",
       "    </tr>\n",
       "    <tr>\n",
       "      <td>5781</td>\n",
       "      <td>3</td>\n",
       "      <td>Jun 7, 2019</td>\n",
       "      <td>Dark Phoenix</td>\n",
       "      <td>350000000</td>\n",
       "      <td>42762350</td>\n",
       "      <td>149762350</td>\n",
       "      <td>2019</td>\n",
       "      <td>-200237650</td>\n",
       "      <td>None</td>\n",
       "      <td>None</td>\n",
       "    </tr>\n",
       "  </tbody>\n",
       "</table>\n",
       "<p>5782 rows × 10 columns</p>\n",
       "</div>"
      ],
      "text/plain": [
       "      id  release_date                                 movie  \\\n",
       "0      1  Dec 18, 2009                                Avatar   \n",
       "1     43  Dec 19, 1997                               Titanic   \n",
       "2      7  Apr 27, 2018                Avengers: Infinity War   \n",
       "3      6  Dec 18, 2015  Star Wars Ep. VII: The Force Awakens   \n",
       "4     34  Jun 12, 2015                        Jurassic World   \n",
       "...   ..           ...                                   ...   \n",
       "5777  53  Apr 27, 2001                        Town & Country   \n",
       "5778  42  Jun 14, 2019           Men in Black: International   \n",
       "5779  94  Mar 11, 2011                       Mars Needs Moms   \n",
       "5780  95  Dec 31, 2020                              Moonfall   \n",
       "5781   3   Jun 7, 2019                          Dark Phoenix   \n",
       "\n",
       "      production_budget  domestic_gross  worldwide_gross  year  \\\n",
       "0             425000000       760507625       2776345279  2009   \n",
       "1             200000000       659363944       2208208395  1997   \n",
       "2             300000000       678815482       2048134200  2018   \n",
       "3             306000000       936662225       2053311220  2015   \n",
       "4             215000000       652270625       1648854864  2015   \n",
       "...                 ...             ...              ...   ...   \n",
       "5777          105000000         6712451         10364769  2001   \n",
       "5778          110000000         3100000          3100000  2019   \n",
       "5779          150000000        21392758         39549758  2011   \n",
       "5780          150000000               0                0  2020   \n",
       "5781          350000000        42762350        149762350  2019   \n",
       "\n",
       "      budget_gross_profit awards nominations  \n",
       "0              2351345279      3           9  \n",
       "1              2008208395     11          14  \n",
       "2              1748134200   None        None  \n",
       "3              1747311220   None        None  \n",
       "4              1433854864   None        None  \n",
       "...                   ...    ...         ...  \n",
       "5777            -94635231   None        None  \n",
       "5778           -106900000   None        None  \n",
       "5779           -110450242   None        None  \n",
       "5780           -150000000   None        None  \n",
       "5781           -200237650   None        None  \n",
       "\n",
       "[5782 rows x 10 columns]"
      ]
     },
     "execution_count": 1017,
     "metadata": {},
     "output_type": "execute_result"
    }
   ],
   "source": [
    "cur.execute('''SELECT b.*, awards, nominations\n",
    "                FROM tn_movie_budgets_clean b\n",
    "                LEFT JOIN films_by_awards2 a\n",
    "                ON a.film = b.movie\n",
    "                AND a.year = b.year\n",
    "                ORDER BY budget_gross_profit DESC\n",
    "                ''')\n",
    "\n",
    "awards_to_budget_df = pd.DataFrame(cur.fetchall())\n",
    "awards_to_budget_df.columns = [x[0] for x in cur.description]\n",
    "awards_to_budget_df"
   ]
  },
  {
   "cell_type": "code",
   "execution_count": 1018,
   "metadata": {
    "ExecuteTime": {
     "end_time": "2020-06-19T03:20:26.253745Z",
     "start_time": "2020-06-19T03:20:26.249962Z"
    }
   },
   "outputs": [],
   "source": [
    "import seaborn as sns\n",
    "import matplotlib.pyplot as plt\n",
    "%matplotlib inline"
   ]
  },
  {
   "cell_type": "code",
   "execution_count": 1019,
   "metadata": {
    "ExecuteTime": {
     "end_time": "2020-06-19T03:20:29.518276Z",
     "start_time": "2020-06-19T03:20:29.511925Z"
    },
    "scrolled": true
   },
   "outputs": [
    {
     "data": {
      "text/plain": [
       "array(['3', '11', None, '2', '1', '4', '6', '7', '5', '8 (2)', '8',\n",
       "       '4 (1)', '0 (1)', '1 (1)', '9', '0 (2)', '10', '5 (1)', '7 (1)'],\n",
       "      dtype=object)"
      ]
     },
     "execution_count": 1019,
     "metadata": {},
     "output_type": "execute_result"
    }
   ],
   "source": [
    "awards_to_budget_df['awards'].unique()"
   ]
  },
  {
   "cell_type": "code",
   "execution_count": 1020,
   "metadata": {
    "ExecuteTime": {
     "end_time": "2020-06-19T03:20:32.857081Z",
     "start_time": "2020-06-19T03:20:32.853063Z"
    }
   },
   "outputs": [
    {
     "data": {
      "text/plain": [
       "array(['9', '14', None, '7', '2', '11', '3', '5', '4', '1', '6', '8',\n",
       "       '13', '10', '12', '10[4]\\n', '0', '6[11]\\n'], dtype=object)"
      ]
     },
     "execution_count": 1020,
     "metadata": {},
     "output_type": "execute_result"
    }
   ],
   "source": [
    "awards_to_budget_df['nominations'].unique()"
   ]
  },
  {
   "cell_type": "markdown",
   "metadata": {},
   "source": [
    "cleaning awards data"
   ]
  },
  {
   "cell_type": "code",
   "execution_count": 1021,
   "metadata": {
    "ExecuteTime": {
     "end_time": "2020-06-19T03:20:36.212452Z",
     "start_time": "2020-06-19T03:20:36.209496Z"
    }
   },
   "outputs": [],
   "source": [
    "def clean_vals(df, col):\n",
    "    df[col] = df[col].str.rstrip('\\n').str.replace(\"\\(.*\\)\", \"\").fillna(\"0\").astype('int')\n",
    "    return df"
   ]
  },
  {
   "cell_type": "code",
   "execution_count": 1022,
   "metadata": {
    "ExecuteTime": {
     "end_time": "2020-06-19T03:20:39.577866Z",
     "start_time": "2020-06-19T03:20:39.571734Z"
    }
   },
   "outputs": [],
   "source": [
    "academy_award_cols = ['awards']\n",
    "\n",
    "for col in academy_award_cols:\n",
    "    awards_to_budget_df = clean_vals(awards_to_budget_df, col)"
   ]
  },
  {
   "cell_type": "code",
   "execution_count": 1023,
   "metadata": {
    "ExecuteTime": {
     "end_time": "2020-06-19T03:20:46.490667Z",
     "start_time": "2020-06-19T03:20:46.484549Z"
    },
    "scrolled": true
   },
   "outputs": [
    {
     "data": {
      "text/plain": [
       "array([ 3, 11,  0,  2,  1,  4,  6,  7,  5,  8,  9, 10])"
      ]
     },
     "execution_count": 1023,
     "metadata": {},
     "output_type": "execute_result"
    }
   ],
   "source": [
    "awards_to_budget_df['awards'].unique()"
   ]
  },
  {
   "cell_type": "code",
   "execution_count": 1025,
   "metadata": {
    "ExecuteTime": {
     "end_time": "2020-06-19T03:21:59.231443Z",
     "start_time": "2020-06-19T03:21:59.222905Z"
    }
   },
   "outputs": [
    {
     "name": "stdout",
     "output_type": "stream",
     "text": [
      "<class 'pandas.core.frame.DataFrame'>\n",
      "RangeIndex: 5782 entries, 0 to 5781\n",
      "Data columns (total 10 columns):\n",
      "id                     5782 non-null int64\n",
      "release_date           5782 non-null object\n",
      "movie                  5782 non-null object\n",
      "production_budget      5782 non-null int64\n",
      "domestic_gross         5782 non-null int64\n",
      "worldwide_gross        5782 non-null int64\n",
      "year                   5782 non-null int64\n",
      "budget_gross_profit    5782 non-null int64\n",
      "awards                 5782 non-null int64\n",
      "nominations            362 non-null object\n",
      "dtypes: int64(7), object(3)\n",
      "memory usage: 451.8+ KB\n"
     ]
    }
   ],
   "source": [
    "awards_to_budget_df.info()"
   ]
  },
  {
   "cell_type": "code",
   "execution_count": null,
   "metadata": {
    "ExecuteTime": {
     "end_time": "2020-06-19T03:14:26.033648Z",
     "start_time": "2020-06-19T03:14:15.585Z"
    }
   },
   "outputs": [],
   "source": [
    "awards_to_budget_df['nominations'].unique()"
   ]
  },
  {
   "cell_type": "markdown",
   "metadata": {},
   "source": [
    "creating simple frame with only our desired data"
   ]
  },
  {
   "cell_type": "code",
   "execution_count": 1028,
   "metadata": {
    "ExecuteTime": {
     "end_time": "2020-06-19T03:23:11.941172Z",
     "start_time": "2020-06-19T03:23:11.931642Z"
    }
   },
   "outputs": [
    {
     "data": {
      "text/html": [
       "<div>\n",
       "<style scoped>\n",
       "    .dataframe tbody tr th:only-of-type {\n",
       "        vertical-align: middle;\n",
       "    }\n",
       "\n",
       "    .dataframe tbody tr th {\n",
       "        vertical-align: top;\n",
       "    }\n",
       "\n",
       "    .dataframe thead th {\n",
       "        text-align: right;\n",
       "    }\n",
       "</style>\n",
       "<table border=\"1\" class=\"dataframe\">\n",
       "  <thead>\n",
       "    <tr style=\"text-align: right;\">\n",
       "      <th></th>\n",
       "      <th>production_budget</th>\n",
       "      <th>awards</th>\n",
       "    </tr>\n",
       "  </thead>\n",
       "  <tbody>\n",
       "    <tr>\n",
       "      <td>0</td>\n",
       "      <td>425000000</td>\n",
       "      <td>3</td>\n",
       "    </tr>\n",
       "    <tr>\n",
       "      <td>1</td>\n",
       "      <td>200000000</td>\n",
       "      <td>11</td>\n",
       "    </tr>\n",
       "    <tr>\n",
       "      <td>2</td>\n",
       "      <td>300000000</td>\n",
       "      <td>0</td>\n",
       "    </tr>\n",
       "    <tr>\n",
       "      <td>3</td>\n",
       "      <td>306000000</td>\n",
       "      <td>0</td>\n",
       "    </tr>\n",
       "    <tr>\n",
       "      <td>4</td>\n",
       "      <td>215000000</td>\n",
       "      <td>0</td>\n",
       "    </tr>\n",
       "    <tr>\n",
       "      <td>...</td>\n",
       "      <td>...</td>\n",
       "      <td>...</td>\n",
       "    </tr>\n",
       "    <tr>\n",
       "      <td>5777</td>\n",
       "      <td>105000000</td>\n",
       "      <td>0</td>\n",
       "    </tr>\n",
       "    <tr>\n",
       "      <td>5778</td>\n",
       "      <td>110000000</td>\n",
       "      <td>0</td>\n",
       "    </tr>\n",
       "    <tr>\n",
       "      <td>5779</td>\n",
       "      <td>150000000</td>\n",
       "      <td>0</td>\n",
       "    </tr>\n",
       "    <tr>\n",
       "      <td>5780</td>\n",
       "      <td>150000000</td>\n",
       "      <td>0</td>\n",
       "    </tr>\n",
       "    <tr>\n",
       "      <td>5781</td>\n",
       "      <td>350000000</td>\n",
       "      <td>0</td>\n",
       "    </tr>\n",
       "  </tbody>\n",
       "</table>\n",
       "<p>5782 rows × 2 columns</p>\n",
       "</div>"
      ],
      "text/plain": [
       "      production_budget  awards\n",
       "0             425000000       3\n",
       "1             200000000      11\n",
       "2             300000000       0\n",
       "3             306000000       0\n",
       "4             215000000       0\n",
       "...                 ...     ...\n",
       "5777          105000000       0\n",
       "5778          110000000       0\n",
       "5779          150000000       0\n",
       "5780          150000000       0\n",
       "5781          350000000       0\n",
       "\n",
       "[5782 rows x 2 columns]"
      ]
     },
     "execution_count": 1028,
     "metadata": {},
     "output_type": "execute_result"
    }
   ],
   "source": [
    "budget_awards_df = awards_to_budget_df[['production_budget', 'awards']]\n",
    "budget_awards_df"
   ]
  },
  {
   "cell_type": "code",
   "execution_count": 1041,
   "metadata": {
    "ExecuteTime": {
     "end_time": "2020-06-19T03:29:17.495971Z",
     "start_time": "2020-06-19T03:29:17.308384Z"
    }
   },
   "outputs": [
    {
     "data": {
      "image/png": "[encoded data removed]",
      "text/plain": [
       "<Figure size 432x288 with 1 Axes>"
      ]
     },
     "metadata": {
      "needs_background": "light"
     },
     "output_type": "display_data"
    }
   ],
   "source": [
    "ax = budget_awards_df.plot.scatter(x='awards', y='production_budget')"
   ]
  },
  {
   "cell_type": "code",
   "execution_count": 1047,
   "metadata": {
    "ExecuteTime": {
     "end_time": "2020-06-19T03:36:26.997788Z",
     "start_time": "2020-06-19T03:36:26.995126Z"
    }
   },
   "outputs": [],
   "source": [
    "import seaborn as sns"
   ]
  },
  {
   "cell_type": "code",
   "execution_count": 1064,
   "metadata": {
    "ExecuteTime": {
     "end_time": "2020-06-19T03:42:37.980056Z",
     "start_time": "2020-06-19T03:42:37.556435Z"
    }
   },
   "outputs": [
    {
     "data": {
      "text/plain": [
       "<matplotlib.axes._subplots.AxesSubplot at 0x2d4fde898>"
      ]
     },
     "execution_count": 1064,
     "metadata": {},
     "output_type": "execute_result"
    },
    {
     "data": {
      "image/png": "[encoded data removed]",
      "text/plain": [
       "<Figure size 468x468 with 1 Axes>"
      ]
     },
     "metadata": {},
     "output_type": "display_data"
    }
   ],
   "source": [
    "sns.set(style=\"darkgrid\")\n",
    "\n",
    "\n",
    "# Draw a scatter plot while assigning point colors and sizes to different\n",
    "# variables in the dataset\n",
    "f, ax = plt.subplots(figsize=(6.5, 6.5))\n",
    "sns.despine(f, left=True, bottom=True)\n",
    "sns.scatterplot(x=\"awards\", y=\"production_budget\",\n",
    "                hue=\"production_budget\",\n",
    "                hue_order=clarity_ranking,\n",
    "                sizes=(1, 8), linewidth=0,\n",
    "                data=budget_awards_df, ax=ax)"
   ]
  },
  {
   "cell_type": "code",
   "execution_count": null,
   "metadata": {},
   "outputs": [],
   "source": []
  }
 ],
 "metadata": {
  "kernelspec": {
   "display_name": "learn-env",
   "language": "python",
   "name": "learn-env"
  },
  "language_info": {
   "codemirror_mode": {
    "name": "ipython",
    "version": 3
   },
   "file_extension": ".py",
   "mimetype": "text/x-python",
   "name": "python",
   "nbconvert_exporter": "python",
   "pygments_lexer": "ipython3",
   "version": "3.6.9"
  },
  "toc": {
   "base_numbering": 1,
   "nav_menu": {},
   "number_sections": true,
   "sideBar": true,
   "skip_h1_title": false,
   "title_cell": "Table of Contents",
   "title_sidebar": "Contents",
   "toc_cell": false,
   "toc_position": {},
   "toc_section_display": true,
   "toc_window_display": false
  },
  "varInspector": {
   "cols": {
    "lenName": 16,
    "lenType": 16,
    "lenVar": 40
   },
   "kernels_config": {
    "python": {
     "delete_cmd_postfix": "",
     "delete_cmd_prefix": "del ",
     "library": "var_list.py",
     "varRefreshCmd": "print(var_dic_list())"
    },
    "r": {
     "delete_cmd_postfix": ") ",
     "delete_cmd_prefix": "rm(",
     "library": "var_list.r",
     "varRefreshCmd": "cat(var_dic_list()) "
    }
   },
   "types_to_exclude": [
    "module",
    "function",
    "builtin_function_or_method",
    "instance",
    "_Feature"
   ],
   "window_display": false
  }
 },
 "nbformat": 4,
 "nbformat_minor": 2
}
